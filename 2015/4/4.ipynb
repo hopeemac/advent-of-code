{
 "cells": [
  {
   "cell_type": "code",
   "execution_count": 3,
   "metadata": {},
   "outputs": [],
   "source": [
    "import hashlib"
   ]
  },
  {
   "cell_type": "code",
   "execution_count": 2,
   "metadata": {},
   "outputs": [
    {
     "data": {
      "text/plain": [
       "'abcdef609043'"
      ]
     },
     "execution_count": 2,
     "metadata": {},
     "output_type": "execute_result"
    }
   ],
   "source": [
    "secret_key = \"abcdef\"\n",
    "decimal = 609043\n",
    "to_hash = secret_key + str(decimal)\n",
    "to_hash"
   ]
  },
  {
   "cell_type": "code",
   "execution_count": 24,
   "metadata": {},
   "outputs": [
    {
     "name": "stdout",
     "output_type": "stream",
     "text": [
      "254575\n"
     ]
    }
   ],
   "source": [
    "for decimal in range(100000000):\n",
    "    secret_key = \"bgvyzdsv\"\n",
    "    # decimal = 609043\n",
    "    to_hash = secret_key + str(decimal)\n",
    "    hexadecimal = hashlib.md5(to_hash.encode()).hexdigest()\n",
    "    if hexadecimal[0:5] == '00000':\n",
    "        print(decimal)\n",
    "        break"
   ]
  },
  {
   "cell_type": "code",
   "execution_count": 25,
   "metadata": {},
   "outputs": [
    {
     "name": "stdout",
     "output_type": "stream",
     "text": [
      "1038736\n"
     ]
    }
   ],
   "source": [
    "for decimal in range(100000000):\n",
    "    secret_key = \"bgvyzdsv\"\n",
    "    # decimal = 609043\n",
    "    to_hash = secret_key + str(decimal)\n",
    "    hexadecimal = hashlib.md5(to_hash.encode()).hexdigest()\n",
    "    if hexadecimal[0:6] == '000000':\n",
    "        print(decimal)\n",
    "        break"
   ]
  }
 ],
 "metadata": {
  "kernelspec": {
   "display_name": "Python 3",
   "language": "python",
   "name": "python3"
  },
  "language_info": {
   "codemirror_mode": {
    "name": "ipython",
    "version": 3
   },
   "file_extension": ".py",
   "mimetype": "text/x-python",
   "name": "python",
   "nbconvert_exporter": "python",
   "pygments_lexer": "ipython3",
   "version": "3.5.2"
  }
 },
 "nbformat": 4,
 "nbformat_minor": 2
}
