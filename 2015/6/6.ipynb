{
 "cells": [
  {
   "cell_type": "code",
   "execution_count": 1,
   "metadata": {},
   "outputs": [],
   "source": [
    "import numpy as np\n",
    "import pandas as pd"
   ]
  },
  {
   "cell_type": "code",
   "execution_count": 166,
   "metadata": {},
   "outputs": [],
   "source": [
    "def get_light_positions(row_start, row_end, column_start, column_end):\n",
    "    light_positions = []\n",
    "    for r in range(row_start,row_end+1):\n",
    "        for c in range(column_start,column_end+1):\n",
    "            light_positions.append((r,c))\n",
    "    return light_positions"
   ]
  },
  {
   "cell_type": "code",
   "execution_count": 167,
   "metadata": {},
   "outputs": [],
   "source": [
    "def parse_direction(direction):\n",
    "    pieces = direction.split(\" \")\n",
    "    end_pt = pieces.pop(-1)\n",
    "    end_pt = [int(pt) for pt in end_pt.split(',')]\n",
    "    pieces.pop(-1) # throw away \"through\"\n",
    "    start_pt = pieces.pop(-1)\n",
    "    start_pt = [int(pt) for pt in start_pt.split(',')]\n",
    "    action = '_'.join(pieces).strip()\n",
    "\n",
    "    row_span = [start_pt[0], end_pt[0]]\n",
    "    column_span = [start_pt[1], end_pt[1]]\n",
    "    return row_span, column_span, action"
   ]
  },
  {
   "cell_type": "code",
   "execution_count": 160,
   "metadata": {},
   "outputs": [],
   "source": [
    "def change_light(value, action):\n",
    "    if action == \"toggle\":\n",
    "        return 0 if value == 1 else 1\n",
    "    elif action == \"turn_off\":\n",
    "        return 0\n",
    "    elif action == \"turn_on\":\n",
    "        return 1\n",
    "    else:\n",
    "        print('No action match')"
   ]
  },
  {
   "cell_type": "code",
   "execution_count": 157,
   "metadata": {},
   "outputs": [
    {
     "name": "stdout",
     "output_type": "stream",
     "text": [
      "     0    1    2    3    4    5    6    7    8    9\n",
      "0  0.0  0.0  0.0  0.0  0.0  0.0  0.0  0.0  0.0  0.0\n",
      "1  0.0  0.0  0.0  0.0  0.0  0.0  0.0  0.0  0.0  0.0\n",
      "2  0.0  0.0  0.0  0.0  0.0  0.0  0.0  0.0  0.0  0.0\n",
      "3  0.0  0.0  0.0  0.0  0.0  0.0  0.0  0.0  0.0  0.0\n",
      "4  0.0  0.0  0.0  0.0  0.0  0.0  0.0  0.0  0.0  0.0\n",
      "5  0.0  0.0  0.0  0.0  0.0  0.0  0.0  0.0  0.0  0.0\n",
      "6  0.0  0.0  0.0  0.0  0.0  0.0  0.0  0.0  0.0  0.0\n",
      "7  0.0  0.0  0.0  0.0  0.0  0.0  0.0  0.0  0.0  0.0\n",
      "8  0.0  0.0  0.0  0.0  0.0  0.0  0.0  0.0  0.0  0.0\n",
      "9  0.0  0.0  0.0  0.0  0.0  0.0  0.0  0.0  0.0  0.0\n",
      "[109, 337] [972, 497] turn_on\n",
      "[(2, 2), (2, 3), (2, 4), (2, 5), (2, 6), (2, 7), (2, 8), (2, 9), (3, 2), (3, 3), (3, 4), (3, 5), (3, 6), (3, 7), (3, 8), (3, 9), (4, 2), (4, 3), (4, 4), (4, 5), (4, 6), (4, 7), (4, 8), (4, 9), (5, 2), (5, 3), (5, 4), (5, 5), (5, 6), (5, 7), (5, 8), (5, 9), (6, 2), (6, 3), (6, 4), (6, 5), (6, 6), (6, 7), (6, 8), (6, 9), (7, 2), (7, 3), (7, 4), (7, 5), (7, 6), (7, 7), (7, 8), (7, 9), (8, 2), (8, 3), (8, 4), (8, 5), (8, 6), (8, 7), (8, 8), (8, 9), (9, 2), (9, 3), (9, 4), (9, 5), (9, 6), (9, 7), (9, 8), (9, 9)]\n",
      "     0    1    2    3    4    5    6    7    8    9\n",
      "0  0.0  0.0  0.0  0.0  0.0  0.0  0.0  0.0  0.0  0.0\n",
      "1  0.0  0.0  0.0  0.0  0.0  0.0  0.0  0.0  0.0  0.0\n",
      "2  0.0  0.0  1.0  1.0  1.0  1.0  1.0  1.0  1.0  1.0\n",
      "3  0.0  0.0  1.0  1.0  1.0  1.0  1.0  1.0  1.0  1.0\n",
      "4  0.0  0.0  1.0  1.0  1.0  1.0  1.0  1.0  1.0  1.0\n",
      "5  0.0  0.0  1.0  1.0  1.0  1.0  1.0  1.0  1.0  1.0\n",
      "6  0.0  0.0  1.0  1.0  1.0  1.0  1.0  1.0  1.0  1.0\n",
      "7  0.0  0.0  1.0  1.0  1.0  1.0  1.0  1.0  1.0  1.0\n",
      "8  0.0  0.0  1.0  1.0  1.0  1.0  1.0  1.0  1.0  1.0\n",
      "9  0.0  0.0  1.0  1.0  1.0  1.0  1.0  1.0  1.0  1.0\n",
      "64.0 lights are on!\n"
     ]
    }
   ],
   "source": [
    "grid = np.zeros([10,10])\n",
    "print(pd.DataFrame(grid))\n",
    "\n",
    "direction = \"turn on 9,9 through 2,2\"\n",
    "row_span, column_span, action = parse_direction(direction)\n",
    "print(start, end, action)\n",
    "\n",
    "row_start = min(row_span)\n",
    "row_end = max(row_span)\n",
    "column_start = min(column_span)\n",
    "column_end = max(column_span)\n",
    "\n",
    "light_positions = get_light_positions(row_start, row_end, column_start, column_end)\n",
    "print(light_positions)\n",
    "\n",
    "for position in light_positions:\n",
    "    # grid[position] = 77\n",
    "    grid[position] = change_light(grid[position], action)\n",
    "\n",
    "print(pd.DataFrame(grid))\n",
    "print('{} lights are on!'.format(np.sum(grid)))"
   ]
  },
  {
   "cell_type": "code",
   "execution_count": 165,
   "metadata": {},
   "outputs": [
    {
     "name": "stdout",
     "output_type": "stream",
     "text": [
      "400410.0 lights are on!\n"
     ]
    }
   ],
   "source": [
    "grid = np.zeros([1000,1000])\n",
    "f = open(\"day6-input.txt\", 'r')\n",
    "directions = f.read().splitlines() # gets rid of the newline character\n",
    "\n",
    "for direction in directions:\n",
    "    row_span, column_span, action = parse_direction(direction)\n",
    "\n",
    "    row_start = min(row_span)\n",
    "    row_end = max(row_span)\n",
    "    column_start = min(column_span)\n",
    "    column_end = max(column_span)\n",
    "\n",
    "    light_positions = get_light_positions(row_start, row_end, column_start, column_end)\n",
    "\n",
    "    for position in light_positions:\n",
    "        grid[position] = change_light(grid[position], action)\n",
    "\n",
    "\n",
    "print('{} lights are on!'.format(np.sum(grid)))"
   ]
  },
  {
   "cell_type": "markdown",
   "metadata": {},
   "source": [
    "# Part 2"
   ]
  },
  {
   "cell_type": "code",
   "execution_count": 168,
   "metadata": {},
   "outputs": [],
   "source": [
    "def change_light2(value, action):\n",
    "    if action == \"toggle\":\n",
    "        return value+2\n",
    "    elif action == \"turn_off\":\n",
    "        return max(value-1, 0) \n",
    "    elif action == \"turn_on\":\n",
    "        return value+1\n",
    "    else:\n",
    "        print('No action match')"
   ]
  },
  {
   "cell_type": "code",
   "execution_count": 170,
   "metadata": {},
   "outputs": [
    {
     "name": "stdout",
     "output_type": "stream",
     "text": [
      "15343601.0 total brightness!\n"
     ]
    }
   ],
   "source": [
    "grid = np.zeros([1000,1000])\n",
    "f = open(\"day6-input.txt\", 'r')\n",
    "directions = f.read().splitlines() # gets rid of the newline character\n",
    "\n",
    "for direction in directions:\n",
    "    row_span, column_span, action = parse_direction(direction)\n",
    "\n",
    "    row_start = min(row_span)\n",
    "    row_end = max(row_span)\n",
    "    column_start = min(column_span)\n",
    "    column_end = max(column_span)\n",
    "\n",
    "    light_positions = get_light_positions(row_start, row_end, column_start, column_end)\n",
    "\n",
    "    for position in light_positions:\n",
    "        grid[position] = change_light2(grid[position], action)\n",
    "\n",
    "\n",
    "print('{} total brightness!'.format(np.sum(grid)))"
   ]
  },
  {
   "cell_type": "code",
   "execution_count": null,
   "metadata": {},
   "outputs": [],
   "source": []
  }
 ],
 "metadata": {
  "kernelspec": {
   "display_name": "Python 3",
   "language": "python",
   "name": "python3"
  },
  "language_info": {
   "codemirror_mode": {
    "name": "ipython",
    "version": 3
   },
   "file_extension": ".py",
   "mimetype": "text/x-python",
   "name": "python",
   "nbconvert_exporter": "python",
   "pygments_lexer": "ipython3",
   "version": "3.5.2"
  }
 },
 "nbformat": 4,
 "nbformat_minor": 2
}
