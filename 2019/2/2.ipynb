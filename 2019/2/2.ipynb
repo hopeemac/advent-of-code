{
 "cells": [
  {
   "cell_type": "code",
   "execution_count": null,
   "metadata": {},
   "outputs": [],
   "source": [
    "def intcode():\n",
    "    pass"
   ]
  },
  {
   "cell_type": "code",
   "execution_count": null,
   "metadata": {},
   "outputs": [],
   "source": [
    "def opcode1(intcodes, input1_p, input2_p, output_p):\n",
    "    output = intcodes[input1_p] + intcodes[input2_p]\n",
    "    intcodes[output_p] = output \n",
    "\n",
    "def opcode2(intcodes, input1_p, input2_p, output_p):\n",
    "    output = intcodes[input1_p] * intcodes[input2_p]\n",
    "    intcodes[output_p] = output\n",
    "\n",
    "def opcode99():\n",
    "    pass\n",
    "\n",
    "def move_pointer(pointer):\n",
    "    return pointer + 4"
   ]
  },
  {
   "cell_type": "markdown",
   "metadata": {},
   "source": [
    "## Test"
   ]
  },
  {
   "cell_type": "code",
   "execution_count": null,
   "metadata": {},
   "outputs": [],
   "source": [
    "test = [1,9,10,3,2,3,11,0,99,30,40,50]\n",
    "intcodes = {i:v  for i, v in enumerate(test)}\n",
    "\n",
    "pointer = 0\n",
    "while \n",
    "if intcodes[pointer] == 1:\n",
    "    opcode1(intcodes, intcodes[pointer+1], intcodes[pointer+2], intcodes[pointer+3])\n",
    "    pointer = move_pointer(pointer)\n",
    "elif intcodes[pointer] == 2:\n",
    "    opcode2(intcodes, intcodes[pointer+1], intcodes[pointer+2], pointer+3)\n",
    "    pointer = move_pointer(pointer)\n",
    "elif intcodes[pointer] == 99:\n",
    "    print('1202 Alarm!')\n",
    "else:\n",
    "    print('werird code')"
   ]
  },
  {
   "cell_type": "markdown",
   "metadata": {},
   "source": [
    "## Part 1"
   ]
  },
  {
   "cell_type": "code",
   "execution_count": null,
   "metadata": {},
   "outputs": [],
   "source": [
    "def run_program(intcodes):\n",
    "    pointer = 0\n",
    "    status = None\n",
    "    while status is None:\n",
    "        if intcodes[pointer] == 1:\n",
    "            opcode1(intcodes, intcodes[pointer+1], intcodes[pointer+2], intcodes[pointer+3])\n",
    "            pointer = move_pointer(pointer)\n",
    "        elif intcodes[pointer] == 2:\n",
    "            opcode2(intcodes, intcodes[pointer+1], intcodes[pointer+2], pointer+3)\n",
    "            pointer = move_pointer(pointer)\n",
    "        elif intcodes[pointer] == 99:\n",
    "            status = 'Alarm'\n",
    "            # print('1202 Alarm!')\n",
    "            return intcodes\n",
    "        else:\n",
    "            status = 'Failure'\n",
    "            print('werird code')\n",
    "            return intcodes"
   ]
  },
  {
   "cell_type": "code",
   "execution_count": null,
   "metadata": {},
   "outputs": [],
   "source": [
    "f = open(\"input2.txt\", 'r')\n",
    "input = f.read().split(',')\n",
    "intcodes = {i:int(v) for i, v in enumerate(input)}"
   ]
  },
  {
   "cell_type": "code",
   "execution_count": null,
   "metadata": {},
   "outputs": [],
   "source": [
    "intcodes[1] = 12\n",
    "intcodes[2] = 2\n",
    "final_intcodes = run_program(intcodes)\n",
    "final_intcodes[0]"
   ]
  },
  {
   "cell_type": "markdown",
   "metadata": {},
   "source": [
    "## Part 2"
   ]
  },
  {
   "cell_type": "code",
   "execution_count": null,
   "metadata": {},
   "outputs": [],
   "source": [
    "def memory_reset():\n",
    "    f = open(\"input2.txt\", 'r')\n",
    "    input = f.read().split(',')\n",
    "    intcodes = {i:int(v) for i, v in enumerate(input)}\n",
    "    return intcodes"
   ]
  },
  {
   "cell_type": "code",
   "execution_count": null,
   "metadata": {},
   "outputs": [],
   "source": [
    "for noun in range(100):\n",
    "    for verb in range(100):\n",
    "        intcodes = memory_reset()\n",
    "        intcodes[1] = noun\n",
    "        intcodes[2] = verb\n",
    "        final_intcodes = run_program(intcodes)\n",
    "        if final_intcodes[0] == 19690720:\n",
    "            print(noun, verb)\n",
    "            raise Exception('Found')"
   ]
  },
  {
   "cell_type": "code",
   "execution_count": null,
   "metadata": {},
   "outputs": [],
   "source": [
    "print(100 * noun + verb)"
   ]
  },
  {
   "cell_type": "code",
   "execution_count": null,
   "metadata": {},
   "outputs": [],
   "source": []
  }
 ],
 "metadata": {
  "kernelspec": {
   "display_name": "Python 3",
   "language": "python",
   "name": "python3"
  },
  "language_info": {
   "codemirror_mode": {
    "name": "ipython",
    "version": 3
   },
   "file_extension": ".py",
   "mimetype": "text/x-python",
   "name": "python",
   "nbconvert_exporter": "python",
   "pygments_lexer": "ipython3",
   "version": "3.5.2"
  }
 },
 "nbformat": 4,
 "nbformat_minor": 2
}
