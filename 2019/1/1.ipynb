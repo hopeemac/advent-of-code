{
 "cells": [
  {
   "cell_type": "code",
   "execution_count": 3,
   "metadata": {},
   "outputs": [],
   "source": [
    "def compute_fuel(weight):\n",
    "    return int(weight / 3) - 2"
   ]
  },
  {
   "cell_type": "code",
   "execution_count": 4,
   "metadata": {},
   "outputs": [],
   "source": [
    "assert compute_fuel(12) == 2\n",
    "assert compute_fuel(14) == 2\n",
    "assert compute_fuel(1969) == 654\n",
    "assert compute_fuel(100756) == 33583"
   ]
  },
  {
   "cell_type": "markdown",
   "metadata": {},
   "source": [
    "## Part 1"
   ]
  },
  {
   "cell_type": "code",
   "execution_count": 5,
   "metadata": {},
   "outputs": [],
   "source": [
    "f = open(\"input1.txt\", 'r')\n",
    "input = f.read().splitlines() # gets rid of the newline character"
   ]
  },
  {
   "cell_type": "code",
   "execution_count": 7,
   "metadata": {},
   "outputs": [
    {
     "name": "stdout",
     "output_type": "stream",
     "text": [
      "3317970\n"
     ]
    }
   ],
   "source": [
    "fuel_needed = 0\n",
    "for module in input:\n",
    "    fuel_needed += compute_fuel(int(module))\n",
    "print(fuel_needed)"
   ]
  },
  {
   "cell_type": "markdown",
   "metadata": {},
   "source": [
    "## Part 2"
   ]
  },
  {
   "cell_type": "code",
   "execution_count": null,
   "metadata": {},
   "outputs": [],
   "source": [
    "fuel_needed = 0\n",
    "for module in input:\n",
    "    fuel_needed += compute_fuel(int(module))\n",
    "print(fuel_needed)"
   ]
  },
  {
   "cell_type": "code",
   "execution_count": 8,
   "metadata": {},
   "outputs": [],
   "source": [
    "module = 14\n",
    "fuel_needed = 0\n",
    "while compute_fuel(module) > 0:\n",
    "    module_fuel = compute_fuel(module)\n",
    "    fuel_needed += module_fuel\n",
    "    module = module_fuel"
   ]
  },
  {
   "cell_type": "code",
   "execution_count": 9,
   "metadata": {},
   "outputs": [
    {
     "data": {
      "text/plain": [
       "2"
      ]
     },
     "execution_count": 9,
     "metadata": {},
     "output_type": "execute_result"
    }
   ],
   "source": [
    "fuel_needed"
   ]
  },
  {
   "cell_type": "code",
   "execution_count": 10,
   "metadata": {},
   "outputs": [
    {
     "data": {
      "text/plain": [
       "966"
      ]
     },
     "execution_count": 10,
     "metadata": {},
     "output_type": "execute_result"
    }
   ],
   "source": [
    "module = 1969\n",
    "fuel_needed = 0\n",
    "while compute_fuel(module) > 0:\n",
    "    module_fuel = compute_fuel(module)\n",
    "    fuel_needed += module_fuel\n",
    "    module = module_fuel\n",
    "fuel_needed"
   ]
  },
  {
   "cell_type": "code",
   "execution_count": 16,
   "metadata": {},
   "outputs": [],
   "source": [
    "def compute_fuel_2(module):\n",
    "    fuel_needed = 0\n",
    "    while compute_fuel(module) > 0:\n",
    "        module_fuel = compute_fuel(module)\n",
    "        fuel_needed += module_fuel\n",
    "        module = module_fuel\n",
    "    return fuel_needed"
   ]
  },
  {
   "cell_type": "code",
   "execution_count": 17,
   "metadata": {},
   "outputs": [
    {
     "name": "stdout",
     "output_type": "stream",
     "text": [
      "4974073\n"
     ]
    }
   ],
   "source": [
    "fuel_needed = 0\n",
    "for module in input:\n",
    "    fuel_needed += compute_fuel_2(int(module))\n",
    "print(fuel_needed)"
   ]
  },
  {
   "cell_type": "code",
   "execution_count": null,
   "metadata": {},
   "outputs": [],
   "source": []
  }
 ],
 "metadata": {
  "kernelspec": {
   "display_name": "Python 3",
   "language": "python",
   "name": "python3"
  },
  "language_info": {
   "codemirror_mode": {
    "name": "ipython",
    "version": 3
   },
   "file_extension": ".py",
   "mimetype": "text/x-python",
   "name": "python",
   "nbconvert_exporter": "python",
   "pygments_lexer": "ipython3",
   "version": "3.5.2"
  }
 },
 "nbformat": 4,
 "nbformat_minor": 2
}
