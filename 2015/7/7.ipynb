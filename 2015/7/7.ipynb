{
 "cells": [
  {
   "cell_type": "code",
   "execution_count": 13,
   "metadata": {},
   "outputs": [],
   "source": [
    "import functools"
   ]
  },
  {
   "cell_type": "code",
   "execution_count": 3,
   "metadata": {},
   "outputs": [],
   "source": [
    "def bit_not(n, numbits=16):\n",
    "    return (1 << numbits) - 1 - n"
   ]
  },
  {
   "cell_type": "code",
   "execution_count": 4,
   "metadata": {},
   "outputs": [],
   "source": [
    "# Test Cases\n",
    "x = 123\n",
    "y = 456\n",
    "assert x & y == 72\n",
    "assert x | y == 507\n",
    "assert x << 2 == 492 # LSHIFT\n",
    "assert y >> 2 == 114 # RSHIFT\n",
    "assert bit_not(x) == 65412\n",
    "assert bit_not(y) == 65079"
   ]
  },
  {
   "cell_type": "code",
   "execution_count": 8,
   "metadata": {},
   "outputs": [],
   "source": [
    "def parse_direction(direction):\n",
    "    direction = direction.split(' -> ')\n",
    "    input = direction[0]\n",
    "    # input = input.split(' ')\n",
    "    output = direction[1].strip()\n",
    "    return input, output"
   ]
  },
  {
   "cell_type": "code",
   "execution_count": 9,
   "metadata": {},
   "outputs": [
    {
     "data": {
      "text/plain": [
       "('1 AND cx', 'cy')"
      ]
     },
     "execution_count": 9,
     "metadata": {},
     "output_type": "execute_result"
    }
   ],
   "source": [
    "parse_direction(\"1 AND cx -> cy\")"
   ]
  },
  {
   "cell_type": "code",
   "execution_count": 7,
   "metadata": {},
   "outputs": [],
   "source": [
    "from collections import defaultdict\n",
    "\n",
    "connections = defaultdict()\n",
    "f = open(\"day7-input.txt\", 'r')\n",
    "for connection in f.readlines():\n",
    "    connection = connection.replace('\\n', '')\n",
    "    input, output = parse_direction(connection)\n",
    "    connections[output] = input"
   ]
  },
  {
   "cell_type": "code",
   "execution_count": 15,
   "metadata": {},
   "outputs": [
    {
     "name": "stdout",
     "output_type": "stream",
     "text": [
      "40149\n"
     ]
    }
   ],
   "source": [
    "# Source: https://www.reddit.com/r/adventofcode/comments/3vr4m4/day_7_solutions/cxqerd1/\n",
    "# Issue/Solution was to use a Least Recently Used Cache otherwise the function ran too long.\n",
    "\n",
    "@functools.lru_cache()\n",
    "def get_value(key):\n",
    "    try:\n",
    "        return int(key)\n",
    "    except ValueError:\n",
    "        pass\n",
    "\n",
    "    cmd = data[key].split(\" \")\n",
    "\n",
    "    if \"NOT\" in cmd:\n",
    "        return ~get_value(cmd[1])\n",
    "    if \"AND\" in cmd:\n",
    "        return get_value(cmd[0]) & get_value(cmd[2])\n",
    "    elif \"OR\" in cmd:\n",
    "        return get_value(cmd[0]) | get_value(cmd[2])\n",
    "    elif \"LSHIFT\" in cmd:\n",
    "        return get_value(cmd[0]) << get_value(cmd[2])\n",
    "    elif \"RSHIFT\" in cmd:\n",
    "        return get_value(cmd[0]) >> get_value(cmd[2])\n",
    "    else:\n",
    "        return get_value(cmd[0])\n",
    "\n",
    "data = connections\n",
    "data[\"b\"] = str(get_value(\"a\"))\n",
    "get_value.cache_clear()\n",
    "print(get_value(\"a\"))"
   ]
  },
  {
   "cell_type": "markdown",
   "metadata": {},
   "source": [
    "## GRAVEYARD"
   ]
  },
  {
   "cell_type": "code",
   "execution_count": null,
   "metadata": {},
   "outputs": [],
   "source": [
    "target_wire = 'a'\n",
    "check_if_ready_to_compute(connections, connections[target_wire])"
   ]
  },
  {
   "cell_type": "code",
   "execution_count": null,
   "metadata": {},
   "outputs": [],
   "source": [
    "def `perform_operation(gates, operation, input1, input2, output):\n",
    "    input1 = get_value(gates, input1)\n",
    "    input2 = get_value(gates, input2)\n",
    "    if operation is None:\n",
    "        gates[output] = input1\n",
    "    elif operation == 'NOT':\n",
    "        gates[output] = bit_not(input1)\n",
    "    elif operation == 'LSHIFT':\n",
    "        gates[output] = input1 << input2\n",
    "    elif operation == 'RSHIFT':\n",
    "        gates[output] = input1 >> input2\n",
    "    elif operation == 'AND':\n",
    "        gates[output] = input1 & input2\n",
    "    elif operation == 'OR':\n",
    "        gates[output] = input1 | input2\n",
    "    else: \n",
    "        raise Exception('Unknown operation type')\n",
    "    return gates"
   ]
  },
  {
   "cell_type": "code",
   "execution_count": null,
   "metadata": {},
   "outputs": [],
   "source": []
  },
  {
   "cell_type": "code",
   "execution_count": null,
   "metadata": {},
   "outputs": [],
   "source": []
  },
  {
   "cell_type": "code",
   "execution_count": null,
   "metadata": {},
   "outputs": [],
   "source": []
  },
  {
   "cell_type": "code",
   "execution_count": null,
   "metadata": {},
   "outputs": [],
   "source": [
    "def perform_operation_recursive(connections, operation, input1, input2, output):\n",
    "    if all_inputs_are_digits()\n",
    "        output = do_binary_calculation(inputs)\n",
    "        return output\n",
    "    else:\n",
    "        input1 = get_input_cmd()\n",
    "        input2 = get_input_cmd()"
   ]
  },
  {
   "cell_type": "code",
   "execution_count": null,
   "metadata": {},
   "outputs": [],
   "source": [
    "def do_binary_calculation(input):\n",
    "    if 'NOT' in input:\n",
    "        return bit_not(input[1])\n",
    "    elif 'LSHIFT' in input:\n",
    "        return input[0] << input[2]\n",
    "    elif 'RSHIFT' in input:\n",
    "        return input[0] >> input[2]\n",
    "    elif 'AND' in input:\n",
    "        return input[0] & input[2]\n",
    "    elif 'OR' in input:\n",
    "        return input[0] | input[2]\n",
    "    else: \n",
    "        return input[0]"
   ]
  },
  {
   "cell_type": "code",
   "execution_count": null,
   "metadata": {},
   "outputs": [],
   "source": [
    "# wire: output of a cmd, always a letters\n",
    "# input: this is a binary calc with 1 or 2 input wires, wire, or value\n",
    "# "
   ]
  },
  {
   "cell_type": "code",
   "execution_count": null,
   "metadata": {},
   "outputs": [],
   "source": [
    "def check_if_ready_to_compute(connections, input):\n",
    "    print('Running check if done fn for \"{}\"'.format(input))\n",
    "    # input = connections[wire]\n",
    "    # print(input)\n",
    "    if len(input) == 0:\n",
    "        print('Just a string?')\n",
    "        if input.isdigit():\n",
    "            print('Done. Yay!')\n",
    "            return int(input)\n",
    "        else:\n",
    "            input = connections[input[0]]\n",
    "            print(input)\n",
    "            check_if_ready_to_compute(connections, input)   \n",
    "    elif len(input) == 1:\n",
    "        if input[0].isdigit():\n",
    "            print('Returning number. yay!')\n",
    "            return int(input[0])\n",
    "        else:\n",
    "            # not a value, so must be another wire\n",
    "            input = connections[input[0]]\n",
    "            print(input)\n",
    "            check_if_ready_to_compute(connections, input)\n",
    "    else:\n",
    "        # LSHIFT, RSHIFT, NOT\n",
    "        if 'LSHIFT' in input:\n",
    "            input1 = check_if_ready_to_compute(connections, [input[0]])\n",
    "            print(input1, input[2])\n",
    "            return input1 << int(input[2])\n",
    "        elif 'RSHIFT' in input:\n",
    "            input1 = check_if_ready_to_compute(connections, [input[0]])\n",
    "            return input1 >> int(input[2])\n",
    "        elif 'NOT' in input:\n",
    "            input1 = check_if_ready_to_compute(connections, [input[1]])\n",
    "            return bit_not(input1)\n",
    "        elif 'AND' in input:\n",
    "            input1 = check_if_ready_to_compute(connections, [input[0]])\n",
    "            input2 = check_if_ready_to_compute(connections, [input[2]])\n",
    "            print('Running and -- ', input1, input2)\n",
    "            return (input1 & input2)\n",
    "        elif 'OR' in input:\n",
    "            input1 = check_if_ready_to_compute(connections, [input[0]])\n",
    "            input2 = check_if_ready_to_compute(connections, [input[2]])\n",
    "            print('Running or -- ', input1, input2)\n",
    "            return (input1 | input2)\n",
    "        else:\n",
    "            print(\"Problem\")"
   ]
  },
  {
   "cell_type": "code",
   "execution_count": null,
   "metadata": {},
   "outputs": [],
   "source": [
    "target_wire = 'a'\n",
    "check_if_ready_to_compute(connections, connections[target_wire])"
   ]
  },
  {
   "cell_type": "code",
   "execution_count": null,
   "metadata": {},
   "outputs": [],
   "source": [
    "connections"
   ]
  },
  {
   "cell_type": "code",
   "execution_count": null,
   "metadata": {},
   "outputs": [],
   "source": [
    "# recursion \n",
    "\n",
    "target_wire = 'a'\n",
    "print(connections[target_wire])\n",
    "# perform_operation(gates, operation, input1, input2, output)\n",
    "print(connections['lx'])\n",
    "\n",
    "['lw', 'OR', 'lv']\n",
    "print(connections['lw'])\n",
    "print(connections['lv'])"
   ]
  },
  {
   "cell_type": "code",
   "execution_count": null,
   "metadata": {},
   "outputs": [],
   "source": [
    "check_if_ready_to_compute(connections, ['14146'])"
   ]
  },
  {
   "cell_type": "code",
   "execution_count": null,
   "metadata": {},
   "outputs": [],
   "source": [
    "# Need to load in all data as dict with the output as the key\n",
    "# Then recursive problem, given input to 'a' what info do you need.\n",
    "# Given the info you need, what do you need.\n",
    "# You know you are done when there is no more variables only values"
   ]
  },
  {
   "cell_type": "markdown",
   "metadata": {},
   "source": [
    "options from gate cmd:\n",
    "- get a value (done)\n",
    "- get a gate --> get gate cmd\n",
    "- get gate + operation --> get gate cmd\n",
    "- get operation with 2 gates\n"
   ]
  },
  {
   "cell_type": "code",
   "execution_count": null,
   "metadata": {},
   "outputs": [],
   "source": []
  },
  {
   "cell_type": "code",
   "execution_count": null,
   "metadata": {},
   "outputs": [],
   "source": [
    "def get_value(input):\n",
    "    print(\"Running {}\".format(input))\n",
    "    try:\n",
    "        num = int(input)\n",
    "        print('Yay a number - {}'.format(num))\n",
    "        return num\n",
    "    except ValueError:\n",
    "        pass\n",
    "    \n",
    "    if 'LSHIFT' in input:\n",
    "        input = input.split(' ')\n",
    "        input1 = get_value(input[0])\n",
    "        num = input1 << int(input[2])\n",
    "        return num\n",
    "    elif 'RSHIFT' in input:\n",
    "        input = input.split(' ')\n",
    "        print(input)\n",
    "        input1 = get_value(input[0])\n",
    "        num =  input1 >> int(input[2])\n",
    "        print(num)\n",
    "        return num\n",
    "    elif 'NOT' in input:\n",
    "        input = input.split(' ')\n",
    "        input1 = get_value(input[1])\n",
    "        num = bit_not(input1)\n",
    "        print(num)\n",
    "        return num\n",
    "    elif 'AND' in input:\n",
    "        input = input.split(' ')\n",
    "        input1 = get_value(input[0])\n",
    "        input2 = get_value(input[2])\n",
    "        num = input1 & input2\n",
    "        print(num)\n",
    "        return num\n",
    "    elif 'OR' in input:\n",
    "        input = input.split(' ')\n",
    "        input1 = get_value(input[0])\n",
    "        input2 = get_value(input[2])\n",
    "        num = input1 | input2\n",
    "        print(num)\n",
    "        return num\n",
    "    else:\n",
    "        # if not a cmd, must be a gate\n",
    "        input = connections[input]\n",
    "        print(input)\n",
    "        return get_value(input)"
   ]
  },
  {
   "cell_type": "code",
   "execution_count": null,
   "metadata": {},
   "outputs": [],
   "source": [
    "target_wire = 'a'\n",
    "get_value(connections[target_wire])"
   ]
  },
  {
   "cell_type": "code",
   "execution_count": null,
   "metadata": {},
   "outputs": [],
   "source": [
    "b = 14146"
   ]
  },
  {
   "cell_type": "code",
   "execution_count": null,
   "metadata": {},
   "outputs": [],
   "source": [
    "(b >> 2) & (((b >> 3) | (b >> 5)) & (bit_not((b >> 3) & (b >> 5))))"
   ]
  },
  {
   "cell_type": "code",
   "execution_count": null,
   "metadata": {},
   "outputs": [],
   "source": [
    "(bit_not((b >> 3) & (b >> 5)))"
   ]
  },
  {
   "cell_type": "code",
   "execution_count": null,
   "metadata": {},
   "outputs": [],
   "source": [
    "connections['lx']"
   ]
  },
  {
   "cell_type": "code",
   "execution_count": null,
   "metadata": {},
   "outputs": [],
   "source": [
    "connections[target_wire]\n",
    "\n",
    "connections['lw']"
   ]
  },
  {
   "cell_type": "code",
   "execution_count": null,
   "metadata": {},
   "outputs": [],
   "source": [
    "int(['0'])"
   ]
  },
  {
   "cell_type": "code",
   "execution_count": null,
   "metadata": {},
   "outputs": [],
   "source": [
    "get_value('c')"
   ]
  },
  {
   "cell_type": "code",
   "execution_count": null,
   "metadata": {},
   "outputs": [],
   "source": [
    "connections['c']"
   ]
  },
  {
   "cell_type": "code",
   "execution_count": null,
   "metadata": {},
   "outputs": [],
   "source": [
    "connections"
   ]
  },
  {
   "cell_type": "code",
   "execution_count": null,
   "metadata": {},
   "outputs": [],
   "source": [
    "get_value(['0'])"
   ]
  },
  {
   "cell_type": "code",
   "execution_count": null,
   "metadata": {},
   "outputs": [],
   "source": [
    "int('0')"
   ]
  },
  {
   "cell_type": "code",
   "execution_count": null,
   "metadata": {},
   "outputs": [],
   "source": [
    "import sys\n",
    "import functools\n",
    "\n",
    "data = connections\n",
    "\n",
    "def get_valueSdf(key):\n",
    "    try:\n",
    "        return int(key)\n",
    "    except ValueError:\n",
    "        pass\n",
    "\n",
    "    cmd = data[key].split(\" \")\n",
    "\n",
    "    if \"NOT\" in cmd:\n",
    "        return ~get_value(cmd[1])\n",
    "    if \"AND\" in cmd:\n",
    "        return get_value(cmd[0]) & get_value(cmd[2])\n",
    "    elif \"OR\" in cmd:\n",
    "        return get_value(cmd[0]) | get_value(cmd[2])\n",
    "    elif \"LSHIFT\" in cmd:\n",
    "        return get_value(cmd[0]) << get_value(cmd[2])\n",
    "    elif \"RSHIFT\" in cmd:\n",
    "        return get_value(cmd[0]) >> get_value(cmd[2])\n",
    "    else:\n",
    "        return get_value(cmd[0])\n",
    "\n",
    "print(get_valueSdf(\"a\"))"
   ]
  },
  {
   "cell_type": "code",
   "execution_count": null,
   "metadata": {},
   "outputs": [],
   "source": [
    "get_value(connections['b'])"
   ]
  },
  {
   "cell_type": "code",
   "execution_count": null,
   "metadata": {},
   "outputs": [],
   "source": []
  },
  {
   "cell_type": "code",
   "execution_count": null,
   "metadata": {},
   "outputs": [],
   "source": [
    "Update connections once known? \n",
    "- if number returned for gate, update gate?"
   ]
  },
  {
   "cell_type": "markdown",
   "metadata": {},
   "source": [
    "## Graveyard"
   ]
  },
  {
   "cell_type": "code",
   "execution_count": null,
   "metadata": {},
   "outputs": [],
   "source": [
    "def get_operation(input):\n",
    "    if len(input) == 1:\n",
    "        input1 = input[0]\n",
    "        input2 = None\n",
    "        operation = None\n",
    "    elif len(input) == 2:\n",
    "        input1 = input[1]\n",
    "        input2 = None\n",
    "        operation = input[0]\n",
    "    else:\n",
    "        input1 = input[0]\n",
    "        input2 = input[2]\n",
    "        operation = input[1]\n",
    "    return input1, input2, operation"
   ]
  },
  {
   "cell_type": "code",
   "execution_count": null,
   "metadata": {},
   "outputs": [],
   "source": [
    "def get_value(gates, input):\n",
    "    if input is None:\n",
    "        return None\n",
    "    elif input.isdigit():\n",
    "        return int(input)\n",
    "    else:\n",
    "        return gates[input]"
   ]
  },
  {
   "cell_type": "code",
   "execution_count": null,
   "metadata": {},
   "outputs": [],
   "source": [
    "# Get input\n",
    "# Check if the input is all numbers\n",
    "# if yes, \n",
    "    compute and return number\n",
    "# else for each input, get input"
   ]
  },
  {
   "cell_type": "code",
   "execution_count": null,
   "metadata": {},
   "outputs": [],
   "source": [
    "    if len(input) == 0:\n",
    "        print('Just a string?')\n",
    "        if input.isdigit():\n",
    "            print('Done. Yay!')\n",
    "            return int(input)\n",
    "        else:\n",
    "            input = connections[input[0]]\n",
    "            print(input)\n",
    "            check_if_ready_to_compute(connections, input)   \n",
    "    elif len(input) == 1:\n",
    "        if input[0].isdigit():\n",
    "            print('Returning number. yay!')\n",
    "            return int(input[0])\n",
    "        else:\n",
    "            # not a value, so must be another wire\n",
    "            input = connections[input[0]]\n",
    "            print(input)\n",
    "            check_if_ready_to_compute(connections, input)"
   ]
  },
  {
   "cell_type": "code",
   "execution_count": null,
   "metadata": {},
   "outputs": [],
   "source": [
    "123 -> x\n",
    "456 -> y\n",
    "x AND y -> d\n",
    "x OR y -> e\n",
    "x LSHIFT 2 -> f\n",
    "y RSHIFT 2 -> g\n",
    "NOT x -> h\n",
    "NOT y -> i\n",
    "After it is run, these are the signals on the wires:\n",
    "\n",
    "d: 72\n",
    "e: 507\n",
    "f: 492\n",
    "g: 114\n",
    "h: 65412\n",
    "i: 65079\n",
    "x: 123\n",
    "y: 456"
   ]
  },
  {
   "cell_type": "code",
   "execution_count": null,
   "metadata": {},
   "outputs": [],
   "source": [
    "123 | 456"
   ]
  },
  {
   "cell_type": "code",
   "execution_count": null,
   "metadata": {},
   "outputs": [],
   "source": []
  }
 ],
 "metadata": {
  "kernelspec": {
   "display_name": "Python 3",
   "language": "python",
   "name": "python3"
  },
  "language_info": {
   "codemirror_mode": {
    "name": "ipython",
    "version": 3
   },
   "file_extension": ".py",
   "mimetype": "text/x-python",
   "name": "python",
   "nbconvert_exporter": "python",
   "pygments_lexer": "ipython3",
   "version": "3.5.2"
  }
 },
 "nbformat": 4,
 "nbformat_minor": 2
}
