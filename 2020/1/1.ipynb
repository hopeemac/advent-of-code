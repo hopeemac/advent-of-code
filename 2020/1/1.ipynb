{
 "cells": [
  {
   "cell_type": "markdown",
   "metadata": {},
   "source": [
    "## Part 1"
   ]
  },
  {
   "cell_type": "code",
   "execution_count": 1,
   "metadata": {},
   "outputs": [],
   "source": [
    "f = open(\"input1.txt\", 'r')\n",
    "input = f.read().splitlines() # gets rid of the newline character"
   ]
  },
  {
   "cell_type": "code",
   "execution_count": 3,
   "metadata": {},
   "outputs": [
    {
     "name": "stdout",
     "output_type": "stream",
     "text": [
      "The history saving thread hit an unexpected error (OperationalError('unable to open database file',)).History will not be written to the database.\n"
     ]
    }
   ],
   "source": [
    "input = [int(i) for i in input]"
   ]
  },
  {
   "cell_type": "code",
   "execution_count": 12,
   "metadata": {},
   "outputs": [],
   "source": [
    "def compute_2020_pair(i):\n",
    "    return 2020 - i"
   ]
  },
  {
   "cell_type": "code",
   "execution_count": 13,
   "metadata": {},
   "outputs": [
    {
     "data": {
      "text/plain": [
       "299"
      ]
     },
     "execution_count": 13,
     "metadata": {},
     "output_type": "execute_result"
    }
   ],
   "source": [
    "compute_2020_pair(1721)"
   ]
  },
  {
   "cell_type": "code",
   "execution_count": 17,
   "metadata": {},
   "outputs": [
    {
     "name": "stdout",
     "output_type": "stream",
     "text": [
      "285 1735\n",
      "494475\n"
     ]
    }
   ],
   "source": [
    "for i in input:\n",
    "    pair = compute_2020_pair(i)\n",
    "    if pair in input:\n",
    "        print(i, pair)\n",
    "        print(i*pair)\n",
    "        break"
   ]
  },
  {
   "cell_type": "markdown",
   "metadata": {},
   "source": [
    "## Part 2"
   ]
  },
  {
   "cell_type": "code",
   "execution_count": null,
   "metadata": {},
   "outputs": [],
   "source": [
    "# only options are numbers < 2020 - i, then create tuples for every option"
   ]
  },
  {
   "cell_type": "code",
   "execution_count": null,
   "metadata": {},
   "outputs": [],
   "source": [
    "def create_combos(options):\n",
    "    input_len = len(options)\n",
    "    combos = []\n",
    "    for i in range(input_len):\n",
    "        for j in range(i, input_len):\n",
    "            # print(i, j)\n",
    "            if i == j:\n",
    "                continue\n",
    "            combos.append((options[i], options[j]))\n",
    "    return combos"
   ]
  },
  {
   "cell_type": "code",
   "execution_count": 40,
   "metadata": {},
   "outputs": [
    {
     "name": "stdout",
     "output_type": "stream",
     "text": [
      "967 503 550\n",
      "267520550\n",
      "503 967 550\n",
      "267520550\n",
      "550 967 503\n",
      "267520550\n"
     ]
    }
   ],
   "source": [
    "for i in input:\n",
    "    pair = compute_2020_pair(i)\n",
    "    options = [i for i in input if i < pair]\n",
    "    combos = create_combos(options)\n",
    "    for i2, i3 in combos:\n",
    "        if i + i2 + i3 == 2020:\n",
    "            print(i, i2, i3)\n",
    "            print(i*i2*i3)\n",
    "            break"
   ]
  }
 ],
 "metadata": {
  "kernelspec": {
   "display_name": "Python 3",
   "language": "python",
   "name": "python3"
  },
  "language_info": {
   "codemirror_mode": {
    "name": "ipython",
    "version": 3
   },
   "file_extension": ".py",
   "mimetype": "text/x-python",
   "name": "python",
   "nbconvert_exporter": "python",
   "pygments_lexer": "ipython3",
   "version": "3.5.2"
  }
 },
 "nbformat": 4,
 "nbformat_minor": 2
}
