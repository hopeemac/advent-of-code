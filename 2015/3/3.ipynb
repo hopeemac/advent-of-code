{
 "cells": [
  {
   "cell_type": "markdown",
   "metadata": {},
   "source": [
    "# Part 1"
   ]
  },
  {
   "cell_type": "code",
   "execution_count": 4,
   "metadata": {},
   "outputs": [],
   "source": [
    "def move(symbol):\n",
    "    if symbol == \"^\":\n",
    "        # up\n",
    "        return 0,1\n",
    "    if symbol == \"v\":\n",
    "        # down\n",
    "        return 0,-1\n",
    "    if symbol == \">\":\n",
    "        # right\n",
    "        return 1,0\n",
    "    if symbol == \"<\":\n",
    "        # left\n",
    "        return -1,0    "
   ]
  },
  {
   "cell_type": "code",
   "execution_count": 12,
   "metadata": {},
   "outputs": [],
   "source": [
    "from collections import namedtuple, Counter\n",
    "Point = namedtuple('Point', ['x', 'y'])"
   ]
  },
  {
   "cell_type": "code",
   "execution_count": 5,
   "metadata": {},
   "outputs": [
    {
     "name": "stdout",
     "output_type": "stream",
     "text": [
      "(0, 1)\n",
      "(0, 0)\n",
      "(0, 1)\n",
      "(0, 0)\n",
      "(0, 1)\n",
      "(0, 0)\n",
      "(0, 1)\n",
      "(0, 0)\n",
      "(0, 1)\n",
      "(0, 0)\n"
     ]
    }
   ],
   "source": [
    "# test case\n",
    "input = \"^v^v^v^v^v\"\n",
    "house = (0,0)\n",
    "for m in input:\n",
    "    x,y = move(m)\n",
    "    house = (house[0] + x, house[1] + y)\n",
    "    print(house)"
   ]
  },
  {
   "cell_type": "code",
   "execution_count": 38,
   "metadata": {},
   "outputs": [],
   "source": [
    "# test case\n",
    "input = \"^v^v^v^v^v\"\n",
    "house = (0,0)\n",
    "houses = []\n",
    "for m in input:\n",
    "    x,y = move(m)\n",
    "    house = (house[0] + x, house[1] + y)\n",
    "    houses.append(str(house[0])+'_'+str(house[1]))"
   ]
  },
  {
   "cell_type": "code",
   "execution_count": 39,
   "metadata": {},
   "outputs": [
    {
     "data": {
      "text/plain": [
       "2"
      ]
     },
     "execution_count": 39,
     "metadata": {},
     "output_type": "execute_result"
    }
   ],
   "source": [
    "len(set(houses))"
   ]
  },
  {
   "cell_type": "code",
   "execution_count": 41,
   "metadata": {},
   "outputs": [
    {
     "data": {
      "text/plain": [
       "2592"
      ]
     },
     "execution_count": 41,
     "metadata": {},
     "output_type": "execute_result"
    }
   ],
   "source": [
    "f = open(\"day3-input.txt\", 'r')\n",
    "input = f.read()\n",
    "\n",
    "house = (0,0)\n",
    "houses = [house]\n",
    "for m in input:\n",
    "    x,y = move(m)\n",
    "    house = (house[0] + x, house[1] + y)\n",
    "    houses.append(str(house[0])+'_'+str(house[1]))\n",
    "\n",
    "len(set(houses))"
   ]
  },
  {
   "cell_type": "markdown",
   "metadata": {},
   "source": [
    "# Part 2"
   ]
  },
  {
   "cell_type": "code",
   "execution_count": 54,
   "metadata": {},
   "outputs": [],
   "source": [
    "def convert_xy_to_str(x,y):\n",
    "    return str(x) + '_' + str(y)"
   ]
  },
  {
   "cell_type": "code",
   "execution_count": 56,
   "metadata": {},
   "outputs": [
    {
     "name": "stdout",
     "output_type": "stream",
     "text": [
      "Santa's turn\n",
      "Robo Santa's turn\n",
      "Santa's turn\n",
      "Robo Santa's turn\n",
      "3\n"
     ]
    }
   ],
   "source": [
    "# test case\n",
    "input = \"^>v<\"\n",
    "santa_house = (0,0)\n",
    "robo_santa_house = (0,0)\n",
    "houses = [convert_xy_to_str(0,0)]\n",
    "for index, m in enumerate(input):\n",
    "    x,y = move(m)\n",
    "    if index % 2 == 0:\n",
    "        print(\"Santa's turn\")\n",
    "        santa_house = (santa_house[0] + x, santa_house[1] + y)\n",
    "        houses.append(convert_xy_to_str(santa_house[0], santa_house[1]))\n",
    "    else:\n",
    "        print(\"Robo Santa's turn\")\n",
    "        robo_santa_house = (robo_santa_house[0] + x,robo_santa_house[1] + y)\n",
    "        houses.append(convert_xy_to_str(robo_santa_house[0], robo_santa_house[1]))\n",
    "\n",
    "print(len(set(houses)))"
   ]
  },
  {
   "cell_type": "code",
   "execution_count": 57,
   "metadata": {},
   "outputs": [
    {
     "name": "stdout",
     "output_type": "stream",
     "text": [
      "2360\n"
     ]
    }
   ],
   "source": [
    "f = open(\"day3-input.txt\", 'r')\n",
    "input = f.read()\n",
    "\n",
    "santa_house = (0,0)\n",
    "robo_santa_house = (0,0)\n",
    "houses = [convert_xy_to_str(0,0)]\n",
    "for index, m in enumerate(input):\n",
    "    x,y = move(m)\n",
    "    if index % 2 == 0:\n",
    "        santa_house = (santa_house[0] + x, santa_house[1] + y)\n",
    "        houses.append(convert_xy_to_str(santa_house[0], santa_house[1]))\n",
    "    else:\n",
    "        robo_santa_house = (robo_santa_house[0] + x,robo_santa_house[1] + y)\n",
    "        houses.append(convert_xy_to_str(robo_santa_house[0], robo_santa_house[1]))\n",
    "\n",
    "print(len(set(houses)))"
   ]
  },
  {
   "cell_type": "code",
   "execution_count": null,
   "metadata": {},
   "outputs": [],
   "source": []
  }
 ],
 "metadata": {
  "kernelspec": {
   "display_name": "Python 3",
   "language": "python",
   "name": "python3"
  },
  "language_info": {
   "codemirror_mode": {
    "name": "ipython",
    "version": 3
   },
   "file_extension": ".py",
   "mimetype": "text/x-python",
   "name": "python",
   "nbconvert_exporter": "python",
   "pygments_lexer": "ipython3",
   "version": "3.5.2"
  }
 },
 "nbformat": 4,
 "nbformat_minor": 2
}
