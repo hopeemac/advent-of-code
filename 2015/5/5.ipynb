{
 "cells": [
  {
   "cell_type": "code",
   "execution_count": 7,
   "metadata": {},
   "outputs": [],
   "source": [
    "vowels = ['a', 'e', 'i', 'o', 'u']\n",
    "naugty_letters = ['ab', 'cd', 'pq', 'xy']"
   ]
  },
  {
   "cell_type": "code",
   "execution_count": 8,
   "metadata": {},
   "outputs": [],
   "source": [
    "string = 'ugknbfddgicrmopn'"
   ]
  },
  {
   "cell_type": "code",
   "execution_count": 9,
   "metadata": {},
   "outputs": [],
   "source": [
    "def make_bigrams(string):\n",
    "    bigrams = []\n",
    "    for i in range(len(string)):\n",
    "        bigrams.append(string[i:i+2])\n",
    "    return bigrams"
   ]
  },
  {
   "cell_type": "code",
   "execution_count": 44,
   "metadata": {},
   "outputs": [],
   "source": [
    "def get_double_letters(letters):\n",
    "    double_letters = [l+l for l in set(letters)]\n",
    "    return double_letters"
   ]
  },
  {
   "cell_type": "code",
   "execution_count": 62,
   "metadata": {},
   "outputs": [],
   "source": [
    "def naughty_or_nice(string):\n",
    "    letters = [l for l in string]\n",
    "    vowel_letters = [l for l in letters if l in vowels]\n",
    "    double_letters = get_double_letters(letters)\n",
    "    bigrams = make_bigrams(string)\n",
    "    \n",
    "    if len(set(naugty_letters).intersection(set(bigrams))) > 0:\n",
    "        return \"naughty\"\n",
    "    \n",
    "    if (len(vowel_letters) >= 3) & (len(set(double_letters).intersection(set(bigrams))) > 0):\n",
    "        return \"nice\"\n",
    "    else:\n",
    "        return \"naughty\""
   ]
  },
  {
   "cell_type": "code",
   "execution_count": 63,
   "metadata": {},
   "outputs": [
    {
     "data": {
      "text/plain": [
       "'nice'"
      ]
     },
     "execution_count": 63,
     "metadata": {},
     "output_type": "execute_result"
    }
   ],
   "source": [
    "string = \"ugknbfddgicrmopn\"\n",
    "naughty_or_nice(string)"
   ]
  },
  {
   "cell_type": "code",
   "execution_count": 64,
   "metadata": {},
   "outputs": [
    {
     "data": {
      "text/plain": [
       "'nice'"
      ]
     },
     "execution_count": 64,
     "metadata": {},
     "output_type": "execute_result"
    }
   ],
   "source": [
    "string = \"aaa\"\n",
    "naughty_or_nice(string)"
   ]
  },
  {
   "cell_type": "code",
   "execution_count": 65,
   "metadata": {},
   "outputs": [
    {
     "data": {
      "text/plain": [
       "'naughty'"
      ]
     },
     "execution_count": 65,
     "metadata": {},
     "output_type": "execute_result"
    }
   ],
   "source": [
    "string = \"jchzalrnumimnmhp\"\n",
    "naughty_or_nice(string)"
   ]
  },
  {
   "cell_type": "code",
   "execution_count": 66,
   "metadata": {},
   "outputs": [
    {
     "data": {
      "text/plain": [
       "'naughty'"
      ]
     },
     "execution_count": 66,
     "metadata": {},
     "output_type": "execute_result"
    }
   ],
   "source": [
    "string = \"haegwjzuvuyypxyu\"\n",
    "naughty_or_nice(string)"
   ]
  },
  {
   "cell_type": "code",
   "execution_count": 67,
   "metadata": {},
   "outputs": [
    {
     "data": {
      "text/plain": [
       "'naughty'"
      ]
     },
     "execution_count": 67,
     "metadata": {},
     "output_type": "execute_result"
    }
   ],
   "source": [
    "string = \"dvszwmarrgswjxmb\"\n",
    "naughty_or_nice(string)"
   ]
  },
  {
   "cell_type": "code",
   "execution_count": 145,
   "metadata": {},
   "outputs": [],
   "source": [
    "f = open(\"day5-input.txt\", 'r')\n",
    "input = f.read().splitlines() # gets rid of the newline character"
   ]
  },
  {
   "cell_type": "code",
   "execution_count": 69,
   "metadata": {},
   "outputs": [],
   "source": [
    "nice_strings = 0\n",
    "for s in input:\n",
    "    ruling = naughty_or_nice(s)\n",
    "    if ruling == \"nice\":\n",
    "        nice_strings += 1"
   ]
  },
  {
   "cell_type": "code",
   "execution_count": 70,
   "metadata": {},
   "outputs": [
    {
     "data": {
      "text/plain": [
       "236"
      ]
     },
     "execution_count": 70,
     "metadata": {},
     "output_type": "execute_result"
    }
   ],
   "source": [
    "nice_strings"
   ]
  },
  {
   "cell_type": "markdown",
   "metadata": {},
   "source": [
    "# Part 2"
   ]
  },
  {
   "cell_type": "code",
   "execution_count": 217,
   "metadata": {},
   "outputs": [],
   "source": [
    "def test_for_repeated_but_separated_letters(string):\n",
    "    for i in range(len(string)-2):\n",
    "        if string[i] == string[i+2]:\n",
    "            print(string[i:i+2+1]) # need the +1 for the non-last index part of list indexing\n",
    "            return True\n",
    "    return False"
   ]
  },
  {
   "cell_type": "code",
   "execution_count": 218,
   "metadata": {},
   "outputs": [
    {
     "name": "stdout",
     "output_type": "stream",
     "text": [
      "efe\n"
     ]
    },
    {
     "data": {
      "text/plain": [
       "True"
      ]
     },
     "execution_count": 218,
     "metadata": {},
     "output_type": "execute_result"
    }
   ],
   "source": [
    "string = \"abcdefeghi\"\n",
    "test_for_repeated_but_separated_letters(string)"
   ]
  },
  {
   "cell_type": "code",
   "execution_count": 204,
   "metadata": {},
   "outputs": [
    {
     "data": {
      "text/plain": [
       "True"
      ]
     },
     "execution_count": 204,
     "metadata": {},
     "output_type": "execute_result"
    }
   ],
   "source": [
    "string = \"aaa\"\n",
    "test_for_repeated_but_separated_letters(string)"
   ]
  },
  {
   "cell_type": "code",
   "execution_count": 205,
   "metadata": {},
   "outputs": [
    {
     "data": {
      "text/plain": [
       "True"
      ]
     },
     "execution_count": 205,
     "metadata": {},
     "output_type": "execute_result"
    }
   ],
   "source": [
    "string = \"xyx\"\n",
    "test_for_repeated_but_separated_letters(string)"
   ]
  },
  {
   "cell_type": "code",
   "execution_count": 225,
   "metadata": {},
   "outputs": [],
   "source": [
    "def test_for_double_repeat_letters(string):\n",
    "    cntr = Counter()\n",
    "    skipped = False\n",
    "    for i in range(len(string)-1):\n",
    "        pair = string[i:i+2]\n",
    "        if i == 0:\n",
    "            cntr[pair] += 1\n",
    "            skipped = False\n",
    "        else:\n",
    "            previous_letter = string[i-1]\n",
    "            if (pair[0] == pair[1]) & (pair[0] == string[i-1]) & (skipped == False):\n",
    "                skipped = True\n",
    "                continue\n",
    "            else:\n",
    "                cntr[pair] += 1\n",
    "                skipped = False\n",
    "    return max([v for k,v in cntr.items()]) >= 2"
   ]
  },
  {
   "cell_type": "code",
   "execution_count": 226,
   "metadata": {},
   "outputs": [
    {
     "data": {
      "text/plain": [
       "True"
      ]
     },
     "execution_count": 226,
     "metadata": {},
     "output_type": "execute_result"
    }
   ],
   "source": [
    "string = \"xyxy\"\n",
    "test_for_double_repeat_letters(string)"
   ]
  },
  {
   "cell_type": "code",
   "execution_count": 227,
   "metadata": {},
   "outputs": [
    {
     "data": {
      "text/plain": [
       "True"
      ]
     },
     "execution_count": 227,
     "metadata": {},
     "output_type": "execute_result"
    }
   ],
   "source": [
    "string = \"aabcdefgaa\"\n",
    "test_for_double_repeat_letters(string)"
   ]
  },
  {
   "cell_type": "code",
   "execution_count": 228,
   "metadata": {},
   "outputs": [
    {
     "data": {
      "text/plain": [
       "False"
      ]
     },
     "execution_count": 228,
     "metadata": {},
     "output_type": "execute_result"
    }
   ],
   "source": [
    "string = \"aaa\"\n",
    "test_for_double_repeat_letters(string)"
   ]
  },
  {
   "cell_type": "code",
   "execution_count": 229,
   "metadata": {},
   "outputs": [
    {
     "data": {
      "text/plain": [
       "True"
      ]
     },
     "execution_count": 229,
     "metadata": {},
     "output_type": "execute_result"
    }
   ],
   "source": [
    "string = \"aaaa\"\n",
    "test_for_double_repeat_letters(string)"
   ]
  },
  {
   "cell_type": "code",
   "execution_count": 230,
   "metadata": {},
   "outputs": [],
   "source": [
    "def naughty_or_nice2(string):\n",
    "    t1 = test_for_repeated_but_separated_letters(string)\n",
    "    t2 = test_for_double_repeat_letters(string)\n",
    "    if (t1 & t2):\n",
    "        return 'nice'\n",
    "    else:\n",
    "        return 'naughty'"
   ]
  },
  {
   "cell_type": "code",
   "execution_count": 231,
   "metadata": {},
   "outputs": [
    {
     "name": "stdout",
     "output_type": "stream",
     "text": [
      "hvh\n"
     ]
    },
    {
     "data": {
      "text/plain": [
       "'nice'"
      ]
     },
     "execution_count": 231,
     "metadata": {},
     "output_type": "execute_result"
    }
   ],
   "source": [
    "string = \"qjhvhtzxzqqjkmpb\"\n",
    "naughty_or_nice2(string)"
   ]
  },
  {
   "cell_type": "code",
   "execution_count": 232,
   "metadata": {},
   "outputs": [
    {
     "name": "stdout",
     "output_type": "stream",
     "text": [
      "xyx\n"
     ]
    },
    {
     "data": {
      "text/plain": [
       "'nice'"
      ]
     },
     "execution_count": 232,
     "metadata": {},
     "output_type": "execute_result"
    }
   ],
   "source": [
    "string = 'xxyxx'\n",
    "naughty_or_nice2(string)"
   ]
  },
  {
   "cell_type": "code",
   "execution_count": 233,
   "metadata": {},
   "outputs": [
    {
     "data": {
      "text/plain": [
       "'naughty'"
      ]
     },
     "execution_count": 233,
     "metadata": {},
     "output_type": "execute_result"
    }
   ],
   "source": [
    "string = \"uurcxstgmygtbstg\"\n",
    "naughty_or_nice2(string)"
   ]
  },
  {
   "cell_type": "code",
   "execution_count": 234,
   "metadata": {},
   "outputs": [
    {
     "name": "stdout",
     "output_type": "stream",
     "text": [
      "odo\n"
     ]
    },
    {
     "data": {
      "text/plain": [
       "'naughty'"
      ]
     },
     "execution_count": 234,
     "metadata": {},
     "output_type": "execute_result"
    }
   ],
   "source": [
    "string = \"ieodomkazucvgmuy\"\n",
    "naughty_or_nice2(string)"
   ]
  },
  {
   "cell_type": "code",
   "execution_count": 235,
   "metadata": {},
   "outputs": [
    {
     "name": "stdout",
     "output_type": "stream",
     "text": [
      "ata\n",
      "xyx\n",
      "lal\n",
      "tst\n",
      "jfj\n",
      "bjb\n",
      "xxx\n",
      "exe\n",
      "ete\n",
      "aza\n",
      "ymy\n",
      "qpq\n",
      "nen\n",
      "sms\n",
      "nnn\n",
      "mrm\n",
      "lml\n",
      "svs\n",
      "qeq\n",
      "dmd\n",
      "vrv\n",
      "xzx\n",
      "uyu\n",
      "oao\n",
      "mom\n",
      "zzz\n",
      "lcl\n",
      "blb\n",
      "xcx\n",
      "kwk\n",
      "rdr\n",
      "tht\n",
      "bib\n",
      "gkg\n",
      "lhl\n",
      "eje\n",
      "waw\n",
      "fcf\n",
      "gzg\n",
      "lil\n",
      "xnx\n",
      "kxk\n",
      "tqt\n",
      "zsz\n",
      "xlx\n",
      "tyt\n",
      "xmx\n",
      "srs\n",
      "cbc\n",
      "hah\n",
      "bab\n",
      "kbk\n",
      "eye\n",
      "iei\n",
      "rtr\n",
      "ngn\n",
      "sfs\n",
      "uxu\n",
      "rpr\n",
      "dkd\n",
      "hrh\n",
      "nvn\n",
      "gcg\n",
      "zdz\n",
      "nmn\n",
      "hth\n",
      "aga\n",
      "mvm\n",
      "ibi\n",
      "did\n",
      "ywy\n",
      "eze\n",
      "ucu\n",
      "qkq\n",
      "aka\n",
      "gpg\n",
      "vgv\n",
      "qwq\n",
      "nvn\n",
      "mwm\n",
      "aoa\n",
      "jmj\n",
      "xox\n",
      "rkr\n",
      "pnp\n",
      "rfr\n",
      "rjr\n",
      "ewe\n",
      "nin\n",
      "ziz\n",
      "eze\n",
      "rgr\n",
      "zzz\n",
      "iui\n",
      "lhl\n",
      "xvx\n",
      "kgk\n",
      "gsg\n",
      "ara\n",
      "bsb\n",
      "hoh\n",
      "tut\n",
      "hxh\n",
      "ara\n",
      "mhm\n",
      "lll\n",
      "bcb\n",
      "mxm\n",
      "aia\n",
      "kbk\n",
      "owo\n",
      "wkw\n",
      "hnh\n",
      "pcp\n",
      "ojo\n",
      "fkf\n",
      "tat\n",
      "cyc\n",
      "ycy\n",
      "flf\n",
      "rtr\n",
      "eye\n",
      "jij\n",
      "cmc\n",
      "tat\n",
      "hih\n",
      "qqq\n",
      "dod\n",
      "iqi\n",
      "rvr\n",
      "wxw\n",
      "tkt\n",
      "kpk\n",
      "kfk\n",
      "jcj\n",
      "jkj\n",
      "wvw\n",
      "lxl\n",
      "cyc\n",
      "lal\n",
      "xix\n",
      "lvl\n",
      "yoy\n",
      "xlx\n",
      "ene\n",
      "bfb\n",
      "vtv\n",
      "sus\n",
      "rnr\n",
      "lzl\n",
      "dyd\n",
      "iji\n",
      "xix\n",
      "qiq\n",
      "fdf\n",
      "ctc\n",
      "rwr\n",
      "yby\n",
      "bxb\n",
      "pmp\n",
      "ehe\n",
      "efe\n",
      "jdj\n",
      "aja\n",
      "dtd\n",
      "bhb\n",
      "ewe\n",
      "ded\n",
      "wiw\n",
      "bub\n",
      "ztz\n",
      "rar\n",
      "ete\n",
      "cac\n",
      "ese\n",
      "mzm\n",
      "iai\n",
      "oqo\n",
      "sas\n",
      "ror\n",
      "yiy\n",
      "ono\n",
      "tpt\n",
      "dhd\n",
      "iai\n",
      "izi\n",
      "ele\n",
      "fif\n",
      "cic\n",
      "idi\n",
      "nqn\n",
      "rer\n",
      "fdf\n",
      "tkt\n",
      "lil\n",
      "vcv\n",
      "wyw\n",
      "dxd\n",
      "bub\n",
      "gqg\n",
      "ygy\n",
      "lxl\n",
      "tqt\n",
      "bkb\n",
      "ugu\n",
      "iai\n",
      "gpg\n",
      "sms\n",
      "ojo\n",
      "oio\n",
      "ctc\n",
      "lll\n",
      "zgz\n",
      "ymy\n",
      "fjf\n",
      "yvy\n",
      "xex\n",
      "wsw\n",
      "sfs\n",
      "ksk\n",
      "gfg\n",
      "srs\n",
      "nwn\n",
      "ljl\n",
      "yoy\n",
      "tht\n",
      "lvl\n",
      "nan\n",
      "jfj\n",
      "rcr\n",
      "wfw\n",
      "xrx\n",
      "bxb\n",
      "ouo\n",
      "jsj\n",
      "nun\n",
      "dqd\n",
      "gdg\n",
      "vmv\n",
      "zwz\n",
      "fvf\n",
      "tlt\n",
      "rur\n",
      "mym\n",
      "bzb\n",
      "ygy\n",
      "ysy\n",
      "qsq\n",
      "ede\n",
      "drd\n",
      "pep\n",
      "gmg\n",
      "idi\n",
      "efe\n",
      "xdx\n",
      "hzh\n",
      "qoq\n",
      "gog\n",
      "tit\n",
      "qaq\n",
      "lml\n",
      "xpx\n",
      "yqy\n",
      "kbk\n",
      "vbv\n",
      "beb\n",
      "fbf\n",
      "ddd\n",
      "qzq\n",
      "xex\n",
      "ifi\n",
      "sys\n",
      "vrv\n",
      "ucu\n",
      "pyp\n",
      "faf\n",
      "sgs\n",
      "rwr\n",
      "bsb\n",
      "psp\n",
      "gug\n",
      "olo\n",
      "sjs\n",
      "tyt\n",
      "xhx\n",
      "oio\n",
      "kzk\n",
      "fxf\n",
      "xkx\n",
      "qbq\n",
      "hkh\n",
      "lal\n",
      "xox\n",
      "xtx\n",
      "lcl\n",
      "www\n",
      "xtx\n",
      "kpk\n",
      "khk\n",
      "juj\n",
      "dsd\n",
      "omo\n",
      "rsr\n",
      "fvf\n",
      "twt\n",
      "fpf\n",
      "lsl\n",
      "tvt\n",
      "wyw\n",
      "tjt\n",
      "kyk\n",
      "zmz\n",
      "ymy\n",
      "aea\n",
      "rqr\n",
      "eye\n",
      "gvg\n",
      "tat\n",
      "pqp\n",
      "wxw\n",
      "jdj\n",
      "vnv\n",
      "ioi\n",
      "blb\n",
      "wlw\n",
      "rzr\n",
      "twt\n",
      "pep\n",
      "mam\n",
      "krk\n",
      "dsd\n",
      "tzt\n",
      "ete\n",
      "mlm\n",
      "lul\n",
      "zmz\n",
      "jaj\n",
      "ksk\n",
      "xix\n",
      "pkp\n",
      "hch\n",
      "csc\n",
      "bub\n",
      "qxq\n",
      "ktk\n",
      "zzz\n",
      "scs\n",
      "gig\n",
      "tit\n",
      "gpg\n",
      "rnr\n",
      "npn\n",
      "wcw\n",
      "aza\n",
      "xfx\n",
      "jej\n",
      "fef\n",
      "brb\n",
      "www\n",
      "ldl\n",
      "rrr\n",
      "mxm\n",
      "hhh\n",
      "zmz\n",
      "nfn\n",
      "pbp\n",
      "oko\n",
      "iri\n",
      "ror\n",
      "fwf\n",
      "bxb\n",
      "wzw\n",
      "rgr\n",
      "cnc\n",
      "zbz\n",
      "mem\n",
      "eke\n",
      "rgr\n",
      "mam\n",
      "czc\n",
      "ljl\n",
      "owo\n",
      "qgq\n",
      "jgj\n",
      "wmw\n",
      "sfs\n",
      "mrm\n",
      "ene\n",
      "ntn\n",
      "mum\n",
      "cvc\n",
      "dpd\n",
      "uru\n",
      "cgc\n",
      "aea\n",
      "yfy\n",
      "jij\n",
      "fcf\n",
      "ycy\n",
      "eee\n",
      "omo\n",
      "sks\n",
      "iqi\n",
      "zcz\n",
      "lyl\n",
      "rrr\n",
      "sis\n",
      "aya\n",
      "ixi\n",
      "yey\n",
      "lyl\n",
      "bhb\n",
      "xsx\n",
      "qbq\n",
      "rar\n",
      "kek\n",
      "rlr\n",
      "mtm\n",
      "kyk\n",
      "bpb\n",
      "hxh\n",
      "hsh\n",
      "qxq\n",
      "bwb\n",
      "ckc\n",
      "oxo\n",
      "lrl\n",
      "dvd\n",
      "klk\n",
      "51\n"
     ]
    }
   ],
   "source": [
    "f = open(\"day5-input.txt\", 'r')\n",
    "input = f.read().splitlines() # gets rid of the newline character\n",
    "\n",
    "nice_strings = 0\n",
    "for s in input:\n",
    "    ruling = naughty_or_nice2(s)\n",
    "    if ruling == \"nice\":\n",
    "        nice_strings += 1\n",
    "print(nice_strings)"
   ]
  },
  {
   "cell_type": "code",
   "execution_count": null,
   "metadata": {},
   "outputs": [],
   "source": []
  }
 ],
 "metadata": {
  "kernelspec": {
   "display_name": "Python 3",
   "language": "python",
   "name": "python3"
  },
  "language_info": {
   "codemirror_mode": {
    "name": "ipython",
    "version": 3
   },
   "file_extension": ".py",
   "mimetype": "text/x-python",
   "name": "python",
   "nbconvert_exporter": "python",
   "pygments_lexer": "ipython3",
   "version": "3.5.2"
  }
 },
 "nbformat": 4,
 "nbformat_minor": 2
}
