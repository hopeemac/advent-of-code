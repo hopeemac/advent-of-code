{
 "cells": [
  {
   "cell_type": "markdown",
   "metadata": {},
   "source": [
    "# Part 1"
   ]
  },
  {
   "cell_type": "code",
   "execution_count": 17,
   "metadata": {},
   "outputs": [],
   "source": [
    "def get_wrapping_paper_size(dimensions):\n",
    "    l = dimensions[0]\n",
    "    w = dimensions[1]\n",
    "    h = dimensions[2]\n",
    "    s1 = l*w\n",
    "    s2 = w*h\n",
    "    s3 = h*l\n",
    "    area = 2*s1 + 2*s2 + 2*s3\n",
    "    slack = min(s1,s2,s3)\n",
    "    area = area + slack\n",
    "    return area"
   ]
  },
  {
   "cell_type": "code",
   "execution_count": 16,
   "metadata": {},
   "outputs": [
    {
     "name": "stdout",
     "output_type": "stream",
     "text": [
      "[2, 3, 4]\n"
     ]
    },
    {
     "data": {
      "text/plain": [
       "58"
      ]
     },
     "execution_count": 16,
     "metadata": {},
     "output_type": "execute_result"
    }
   ],
   "source": [
    "# test case 1\n",
    "input = \"2x3x4\"\n",
    "dimensions = input.split('x')\n",
    "dimensions = [int(d) for d in dimensions]\n",
    "print(dimensions)\n",
    "get_wrapping_paper_size(dimensions)"
   ]
  },
  {
   "cell_type": "code",
   "execution_count": 18,
   "metadata": {},
   "outputs": [
    {
     "name": "stdout",
     "output_type": "stream",
     "text": [
      "[1, 1, 10]\n"
     ]
    },
    {
     "data": {
      "text/plain": [
       "43"
      ]
     },
     "execution_count": 18,
     "metadata": {},
     "output_type": "execute_result"
    }
   ],
   "source": [
    "# test case 2\n",
    "input = \"1x1x10\"\n",
    "dimensions = input.split('x')\n",
    "dimensions = [int(d) for d in dimensions]\n",
    "print(dimensions)\n",
    "get_wrapping_paper_size(dimensions)"
   ]
  },
  {
   "cell_type": "code",
   "execution_count": null,
   "metadata": {},
   "outputs": [],
   "source": [
    "f = open(\"day2-input.txt\", 'r')\n",
    "input = f.read().splitlines() # gets rid of the newline character"
   ]
  },
  {
   "cell_type": "code",
   "execution_count": 24,
   "metadata": {},
   "outputs": [
    {
     "name": "stdout",
     "output_type": "stream",
     "text": [
      "1598415\n"
     ]
    }
   ],
   "source": [
    "wrapping_paper_total = 0\n",
    "for present in input:\n",
    "    dimensions = present.split('x')\n",
    "    dimensions = [int(d) for d in dimensions]\n",
    "    wrapping_paper_size = get_wrapping_paper_size(dimensions)\n",
    "    wrapping_paper_total += wrapping_paper_size\n",
    "print(wrapping_paper_total)"
   ]
  },
  {
   "cell_type": "markdown",
   "metadata": {},
   "source": [
    "# Part 2"
   ]
  },
  {
   "cell_type": "code",
   "execution_count": 48,
   "metadata": {},
   "outputs": [],
   "source": [
    "def get_ribbon_length(dimensions):\n",
    "    dimensions = sorted(dimensions)\n",
    "    wrap = dimensions[0] + dimensions[0] + dimensions[1] + dimensions[1]\n",
    "    bow = dimensions[0] * dimensions[1] * dimensions[2]\n",
    "    length = wrap + bow\n",
    "    return length"
   ]
  },
  {
   "cell_type": "code",
   "execution_count": 49,
   "metadata": {},
   "outputs": [
    {
     "data": {
      "text/plain": [
       "34"
      ]
     },
     "execution_count": 49,
     "metadata": {},
     "output_type": "execute_result"
    }
   ],
   "source": [
    "# test case 1\n",
    "input = \"2x3x4\"\n",
    "dimensions = input.split('x')\n",
    "dimensions = [int(d) for d in dimensions]\n",
    "get_ribbon_length(dimensions)"
   ]
  },
  {
   "cell_type": "code",
   "execution_count": 51,
   "metadata": {},
   "outputs": [
    {
     "data": {
      "text/plain": [
       "14"
      ]
     },
     "execution_count": 51,
     "metadata": {},
     "output_type": "execute_result"
    }
   ],
   "source": [
    "# test case 2\n",
    "input = \"1x1x10\"\n",
    "dimensions = input.split('x')\n",
    "dimensions = [int(d) for d in dimensions]\n",
    "get_ribbon_length(dimensions)"
   ]
  },
  {
   "cell_type": "code",
   "execution_count": 53,
   "metadata": {},
   "outputs": [],
   "source": [
    "f = open(\"day2-input.txt\", 'r')\n",
    "input = f.read().splitlines() # gets rid of the newline character"
   ]
  },
  {
   "cell_type": "code",
   "execution_count": 54,
   "metadata": {},
   "outputs": [
    {
     "name": "stdout",
     "output_type": "stream",
     "text": [
      "3812909\n"
     ]
    }
   ],
   "source": [
    "ribbon_total = 0\n",
    "for present in input:\n",
    "    dimensions = present.split('x')\n",
    "    dimensions = [int(d) for d in dimensions]\n",
    "    ribbon_size = get_ribbon_length(dimensions)\n",
    "    ribbon_total += ribbon_size\n",
    "print(ribbon_total)"
   ]
  }
 ],
 "metadata": {
  "kernelspec": {
   "display_name": "Python 3",
   "language": "python",
   "name": "python3"
  },
  "language_info": {
   "codemirror_mode": {
    "name": "ipython",
    "version": 3
   },
   "file_extension": ".py",
   "mimetype": "text/x-python",
   "name": "python",
   "nbconvert_exporter": "python",
   "pygments_lexer": "ipython3",
   "version": "3.5.2"
  }
 },
 "nbformat": 4,
 "nbformat_minor": 2
}
