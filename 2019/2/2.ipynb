{
 "cells": [
  {
   "cell_type": "code",
   "execution_count": null,
   "metadata": {},
   "outputs": [],
   "source": [
    "def intcode():\n",
    "    pass"
   ]
  },
  {
   "cell_type": "code",
   "execution_count": 74,
   "metadata": {},
   "outputs": [],
   "source": [
    "def opcode1(intcodes, input1_p, input2_p, output_p):\n",
    "    output = intcodes[input1_p] + intcodes[input2_p]\n",
    "    intcodes[output_p] = output \n",
    "\n",
    "def opcode2(intcodes, input1_p, input2_p, output_p):\n",
    "    output = intcodes[input1_p] * intcodes[input2_p]\n",
    "    intcodes[output_p] = output\n",
    "\n",
    "def opcode99():\n",
    "    pass\n",
    "\n",
    "def move_pointer(pointer):\n",
    "    return pointer + 4"
   ]
  },
  {
   "cell_type": "markdown",
   "metadata": {},
   "source": [
    "## Test"
   ]
  },
  {
   "cell_type": "code",
   "execution_count": 48,
   "metadata": {},
   "outputs": [],
   "source": [
    "test = [1,9,10,3,2,3,11,0,99,30,40,50]\n",
    "intcodes = {i:v  for i, v in enumerate(test)}\n",
    "\n",
    "pointer = 0\n",
    "while \n",
    "if intcodes[pointer] == 1:\n",
    "    opcode1(intcodes, intcodes[pointer+1], intcodes[pointer+2], intcodes[pointer+3])\n",
    "    pointer = move_pointer(pointer)\n",
    "elif intcodes[pointer] == 2:\n",
    "    opcode2(intcodes, intcodes[pointer+1], intcodes[pointer+2], pointer+3)\n",
    "    pointer = move_pointer(pointer)\n",
    "elif intcodes[pointer] == 99:\n",
    "    print('1202 Alarm!')\n",
    "else:\n",
    "    print('werird code')"
   ]
  },
  {
   "cell_type": "markdown",
   "metadata": {},
   "source": [
    "## Part 1"
   ]
  },
  {
   "cell_type": "code",
   "execution_count": 95,
   "metadata": {},
   "outputs": [],
   "source": [
    "def run_program(intcodes):\n",
    "    pointer = 0\n",
    "    status = None\n",
    "    while status is None:\n",
    "        if intcodes[pointer] == 1:\n",
    "            opcode1(intcodes, intcodes[pointer+1], intcodes[pointer+2], intcodes[pointer+3])\n",
    "            pointer = move_pointer(pointer)\n",
    "        elif intcodes[pointer] == 2:\n",
    "            opcode2(intcodes, intcodes[pointer+1], intcodes[pointer+2], pointer+3)\n",
    "            pointer = move_pointer(pointer)\n",
    "        elif intcodes[pointer] == 99:\n",
    "            status = 'Alarm'\n",
    "            # print('1202 Alarm!')\n",
    "            return intcodes\n",
    "        else:\n",
    "            status = 'Failure'\n",
    "            print('werird code')\n",
    "            return intcodes"
   ]
  },
  {
   "cell_type": "code",
   "execution_count": 76,
   "metadata": {},
   "outputs": [],
   "source": [
    "f = open(\"input2.txt\", 'r')\n",
    "input = f.read().split(',')\n",
    "intcodes = {i:int(v) for i, v in enumerate(input)}"
   ]
  },
  {
   "cell_type": "code",
   "execution_count": 77,
   "metadata": {},
   "outputs": [
    {
     "name": "stdout",
     "output_type": "stream",
     "text": [
      "1202 Alarm!\n"
     ]
    },
    {
     "data": {
      "text/plain": [
       "3765464"
      ]
     },
     "execution_count": 77,
     "metadata": {},
     "output_type": "execute_result"
    }
   ],
   "source": [
    "intcodes[1] = 12\n",
    "intcodes[2] = 2\n",
    "final_intcodes = run_program(intcodes)\n",
    "final_intcodes[0]"
   ]
  },
  {
   "cell_type": "markdown",
   "metadata": {},
   "source": [
    "## Part 2"
   ]
  },
  {
   "cell_type": "code",
   "execution_count": 96,
   "metadata": {},
   "outputs": [],
   "source": [
    "def memory_reset():\n",
    "    f = open(\"input2.txt\", 'r')\n",
    "    input = f.read().split(',')\n",
    "    intcodes = {i:int(v) for i, v in enumerate(input)}\n",
    "    return intcodes"
   ]
  },
  {
   "cell_type": "code",
   "execution_count": 110,
   "metadata": {},
   "outputs": [
    {
     "name": "stdout",
     "output_type": "stream",
     "text": [
      "76 10\n"
     ]
    },
    {
     "ename": "Exception",
     "evalue": "Found",
     "output_type": "error",
     "traceback": [
      "\u001b[0;31m---------------------------------------------------------------------------\u001b[0m",
      "\u001b[0;31mException\u001b[0m                                 Traceback (most recent call last)",
      "\u001b[0;32m<ipython-input-110-07941cc5dedc>\u001b[0m in \u001b[0;36m<module>\u001b[0;34m\u001b[0m\n\u001b[1;32m      7\u001b[0m         \u001b[0;32mif\u001b[0m \u001b[0mfinal_intcodes\u001b[0m\u001b[0;34m[\u001b[0m\u001b[0;36m0\u001b[0m\u001b[0;34m]\u001b[0m \u001b[0;34m==\u001b[0m \u001b[0;36m19690720\u001b[0m\u001b[0;34m:\u001b[0m\u001b[0;34m\u001b[0m\u001b[0m\n\u001b[1;32m      8\u001b[0m             \u001b[0mprint\u001b[0m\u001b[0;34m(\u001b[0m\u001b[0mnoun\u001b[0m\u001b[0;34m,\u001b[0m \u001b[0mverb\u001b[0m\u001b[0;34m)\u001b[0m\u001b[0;34m\u001b[0m\u001b[0m\n\u001b[0;32m----> 9\u001b[0;31m             \u001b[0;32mraise\u001b[0m \u001b[0mException\u001b[0m\u001b[0;34m(\u001b[0m\u001b[0;34m'Found'\u001b[0m\u001b[0;34m)\u001b[0m\u001b[0;34m\u001b[0m\u001b[0m\n\u001b[0m",
      "\u001b[0;31mException\u001b[0m: Found"
     ]
    }
   ],
   "source": [
    "for noun in range(100):\n",
    "    for verb in range(100):\n",
    "        intcodes = memory_reset()\n",
    "        intcodes[1] = noun\n",
    "        intcodes[2] = verb\n",
    "        final_intcodes = run_program(intcodes)\n",
    "        if final_intcodes[0] == 19690720:\n",
    "            print(noun, verb)\n",
    "            raise Exception('Found')"
   ]
  },
  {
   "cell_type": "code",
   "execution_count": 111,
   "metadata": {},
   "outputs": [
    {
     "name": "stdout",
     "output_type": "stream",
     "text": [
      "7610\n"
     ]
    }
   ],
   "source": [
    "print(100 * noun + verb)"
   ]
  },
  {
   "cell_type": "code",
   "execution_count": null,
   "metadata": {},
   "outputs": [],
   "source": []
  }
 ],
 "metadata": {
  "kernelspec": {
   "display_name": "Python 3",
   "language": "python",
   "name": "python3"
  },
  "language_info": {
   "codemirror_mode": {
    "name": "ipython",
    "version": 3
   },
   "file_extension": ".py",
   "mimetype": "text/x-python",
   "name": "python",
   "nbconvert_exporter": "python",
   "pygments_lexer": "ipython3",
   "version": "3.5.2"
  }
 },
 "nbformat": 4,
 "nbformat_minor": 2
}
