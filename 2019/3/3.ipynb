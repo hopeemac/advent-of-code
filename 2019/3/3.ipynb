{
 "cells": [
  {
   "cell_type": "code",
   "execution_count": 18,
   "metadata": {},
   "outputs": [],
   "source": [
    "def conduct_move(current_position, command):\n",
    "    direction = command[0]\n",
    "    steps = int(command[1:])\n",
    "    traversed = []\n",
    "    if direction == 'D':\n",
    "        for i in range(steps):\n",
    "            current_position = (current_position[0], current_position[1] - 1)\n",
    "            traversed.append(current_position)\n",
    "    elif direction == 'U':\n",
    "        for i in range(steps):\n",
    "            current_position = (current_position[0], current_position[1] + 1)\n",
    "            traversed.append(current_position)\n",
    "    elif direction == 'R':\n",
    "        for i in range(steps):\n",
    "            current_position = (current_position[0] + 1, current_position[1])\n",
    "            traversed.append(current_position)\n",
    "    elif direction == 'L':\n",
    "        for i in range(steps):\n",
    "            current_position = (current_position[0] - 1, current_position[1])\n",
    "            traversed.append(current_position)\n",
    "    return current_position, traversed"
   ]
  },
  {
   "cell_type": "code",
   "execution_count": 48,
   "metadata": {},
   "outputs": [],
   "source": [
    "def run_instructions(current_position, instructions):\n",
    "    instructions = instructions.split(',')\n",
    "    traversed = []\n",
    "    for move in instructions:\n",
    "        current_position, to_add = conduct_move(current_position, move)\n",
    "        traversed = traversed + to_add\n",
    "    return traversed"
   ]
  },
  {
   "cell_type": "code",
   "execution_count": 20,
   "metadata": {},
   "outputs": [],
   "source": [
    "current_position = (0,0)\n",
    "traversed = []\n",
    "\n",
    "instructions = \"R8,U5,L5,D3\".split(',')\n",
    "for move in instructions:\n",
    "    current_position, to_add = conduct_move(current_position, move)\n",
    "    traversed = traversed + to_add\n",
    "wire1 = traversed"
   ]
  },
  {
   "cell_type": "code",
   "execution_count": 21,
   "metadata": {},
   "outputs": [],
   "source": [
    "current_position = (0,0)\n",
    "traversed = []\n",
    "\n",
    "instructions = \"U7,R6,D4,L4\".split(',')\n",
    "for move in instructions:\n",
    "    current_position, to_add = conduct_move(current_position, move)\n",
    "    traversed = traversed + to_add\n",
    "wire2 = traversed"
   ]
  },
  {
   "cell_type": "code",
   "execution_count": 22,
   "metadata": {},
   "outputs": [
    {
     "data": {
      "text/plain": [
       "[(1, 0),\n",
       " (2, 0),\n",
       " (3, 0),\n",
       " (4, 0),\n",
       " (5, 0),\n",
       " (6, 0),\n",
       " (7, 0),\n",
       " (8, 0),\n",
       " (8, 1),\n",
       " (8, 2),\n",
       " (8, 3),\n",
       " (8, 4),\n",
       " (8, 5),\n",
       " (7, 5),\n",
       " (6, 5),\n",
       " (5, 5),\n",
       " (4, 5),\n",
       " (3, 5),\n",
       " (3, 4),\n",
       " (3, 3),\n",
       " (3, 2)]"
      ]
     },
     "execution_count": 22,
     "metadata": {},
     "output_type": "execute_result"
    }
   ],
   "source": [
    "wire1"
   ]
  },
  {
   "cell_type": "code",
   "execution_count": 27,
   "metadata": {},
   "outputs": [],
   "source": [
    "crosses = set(wire1).intersection(set(wire2))"
   ]
  },
  {
   "cell_type": "code",
   "execution_count": 50,
   "metadata": {},
   "outputs": [],
   "source": [
    "def compute_manhattan_distance(x1,y1,x2,y2):\n",
    "    dist = abs(x2 - x1) + abs(y2 - y1)\n",
    "    return dist"
   ]
  },
  {
   "cell_type": "code",
   "execution_count": 51,
   "metadata": {},
   "outputs": [
    {
     "name": "stdout",
     "output_type": "stream",
     "text": [
      "(158, -12) 170\n",
      "(146, 46) 192\n",
      "(155, 4) 159\n",
      "(155, 11) 166\n"
     ]
    }
   ],
   "source": [
    "import math\n",
    "for cross in crosses:\n",
    "    dist = compute_manhattan_distance(0,0,cross[0],cross[1])\n",
    "    print(cross, dist)"
   ]
  },
  {
   "cell_type": "markdown",
   "metadata": {},
   "source": [
    "Test 2"
   ]
  },
  {
   "cell_type": "code",
   "execution_count": 52,
   "metadata": {},
   "outputs": [
    {
     "name": "stdout",
     "output_type": "stream",
     "text": [
      "(158, -12) 170\n",
      "(146, 46) 192\n",
      "(155, 4) 159\n",
      "(155, 11) 166\n"
     ]
    }
   ],
   "source": [
    "instructions1 = \"R75,D30,R83,U83,L12,D49,R71,U7,L72\"\n",
    "instructions2 = \"U62,R66,U55,R34,D71,R55,D58,R83\"\n",
    "\n",
    "origin = (0,0)\n",
    "wire1 = run_instructions(origin, instructions1)\n",
    "wire2 = run_instructions(origin, instructions2)\n",
    "\n",
    "crosses = set(wire1).intersection(set(wire2))\n",
    "\n",
    "for cross in crosses:\n",
    "    dist = compute_manhattan_distance(0,0,cross[0],cross[1])\n",
    "    print(cross, dist)"
   ]
  },
  {
   "cell_type": "markdown",
   "metadata": {},
   "source": [
    "Test 3"
   ]
  },
  {
   "cell_type": "code",
   "execution_count": 53,
   "metadata": {},
   "outputs": [
    {
     "name": "stdout",
     "output_type": "stream",
     "text": [
      "(107, 47) 154\n",
      "(107, 71) 178\n",
      "(157, 18) 175\n",
      "(107, 51) 158\n",
      "(124, 11) 135\n"
     ]
    }
   ],
   "source": [
    "instructions1 = \"R98,U47,R26,D63,R33,U87,L62,D20,R33,U53,R51\"\n",
    "instructions2 = \"U98,R91,D20,R16,D67,R40,U7,R15,U6,R7\"\n",
    "\n",
    "origin = (0,0)\n",
    "wire1 = run_instructions(origin, instructions1)\n",
    "wire2 = run_instructions(origin, instructions2)\n",
    "\n",
    "crosses = set(wire1).intersection(set(wire2))\n",
    "\n",
    "for cross in crosses:\n",
    "    dist = compute_manhattan_distance(0,0,cross[0],cross[1])\n",
    "    print(cross, dist)"
   ]
  },
  {
   "cell_type": "markdown",
   "metadata": {},
   "source": [
    "## Part 1"
   ]
  },
  {
   "cell_type": "code",
   "execution_count": 77,
   "metadata": {},
   "outputs": [],
   "source": [
    "f = open('input3.txt', 'r')\n",
    "instructions = f.read().splitlines() # gets ride of newline character"
   ]
  },
  {
   "cell_type": "code",
   "execution_count": 78,
   "metadata": {},
   "outputs": [
    {
     "name": "stdout",
     "output_type": "stream",
     "text": [
      "(1466, 2127) 3593\n",
      "(681, 3469) 4150\n",
      "(973, 3319) 4292\n",
      "(813, 2402) 3215\n",
      "(1367, 2911) 4278\n",
      "(50, 2830) 2880\n",
      "(-538, 607) 1145\n",
      "(593, 3125) 3718\n",
      "(1104, 3456) 4560\n",
      "(1009, 3821) 4830\n",
      "(137, 760) 897\n",
      "(946, 2686) 3632\n",
      "(-348, 1151) 1499\n",
      "(-1212, 1812) 3024\n",
      "(313, 1724) 2037\n",
      "(616, 1679) 2295\n",
      "(291, 760) 1051\n",
      "(-123, 1822) 1945\n",
      "(1065, 3821) 4886\n",
      "(470, 3125) 3595\n",
      "(718, 2399) 3117\n",
      "(718, 1783) 2501\n",
      "(592, 1055) 1647\n",
      "(313, 1055) 1368\n",
      "(1077, 796) 1873\n",
      "(253, 63) 316\n",
      "(1491, 3428) 4919\n",
      "(1636, 2704) 4340\n",
      "(-9, 2836) 2845\n",
      "(97, 2383) 2480\n",
      "(154, 3525) 3679\n",
      "(1065, 3319) 4384\n",
      "(990, 63) 1053\n",
      "(-871, 1077) 1948\n",
      "(111, 2479) 2590\n",
      "(-871, 956) 1827\n",
      "(111, 2903) 3014\n",
      "(-1212, 1459) 2671\n",
      "(1491, 3610) 5101\n",
      "(1101, 2853) 3954\n",
      "(973, 3237) 4210\n",
      "(296, 2399) 2695\n",
      "(65, 1679) 1744\n",
      "(595, 1679) 2274\n",
      "(946, 2503) 3449\n",
      "(29, 2903) 2932\n",
      "(956, 2624) 3580\n",
      "(956, 2874) 3830\n",
      "(-315, 994) 1309\n",
      "(50, 2836) 2886\n",
      "(-1283, 1328) 2611\n",
      "(1321, 2951) 4272\n",
      "(-720, 689) 1409\n",
      "(1104, 2951) 4055\n",
      "(559, 1679) 2238\n",
      "(808, 3737) 4545\n",
      "(-41, 1776) 1817\n",
      "(865, 2169) 3034\n",
      "(1491, 3635) 5126\n",
      "(111, 2836) 2947\n",
      "(-300, 962) 1262\n",
      "(903, 2445) 3348\n",
      "(819, 2937) 3756\n",
      "(531, 2444) 2975\n",
      "(1101, 2717) 3818\n",
      "(-577, 994) 1571\n",
      "(958, 2686) 3644\n",
      "(1362, 1951) 3313\n",
      "(681, 3237) 3918\n",
      "(1162, 2717) 3879\n",
      "(946, 2654) 3600\n",
      "(1466, 2061) 3527\n",
      "(865, 2624) 3489\n",
      "(239, 2444) 2683\n",
      "(931, 2937) 3868\n",
      "(1116, 2993) 4109\n",
      "(1162, 2686) 3848\n",
      "(-1212, 1466) 2678\n",
      "(-480, 971) 1451\n",
      "(-123, 2036) 2159\n",
      "(-321, 1592) 1913\n",
      "(-871, 994) 1865\n",
      "(-871, 822) 1693\n",
      "(1636, 2155) 3791\n",
      "(-8, 3188) 3196\n",
      "(956, 2744) 3700\n",
      "(1195, 2407) 3602\n",
      "(-1524, 1390) 2914\n",
      "(903, 2849) 3752\n",
      "(-1751, 2101) 3852\n",
      "(865, 2445) 3310\n",
      "(808, 3712) 4520\n",
      "(1104, 3011) 4115\n",
      "(239, 2399) 2638\n",
      "(681, 3319) 4000\n",
      "(-8, 2862) 2870\n",
      "(-9, 2830) 2839\n",
      "(1065, 2993) 4058\n",
      "(-586, 1286) 1872\n",
      "(1101, 2686) 3787\n",
      "(111, 2830) 2941\n",
      "(1104, 2744) 3848\n",
      "(-984, 2266) 3250\n",
      "(1411, 2853) 4264\n",
      "(1195, 2503) 3698\n",
      "(1101, 2573) 3674\n",
      "(973, 3469) 4442\n",
      "(984, 2354) 3338\n",
      "(-649, 1855) 2504\n",
      "(943, 63) 1006\n",
      "(757, 2686) 3443\n",
      "(592, 1590) 2182\n",
      "(984, 2169) 3153\n",
      "(-9, 2383) 2392\n",
      "(229, 3125) 3354\n",
      "(958, 2654) 3612\n",
      "(516, 3125) 3641\n",
      "(-19, 2207) 2226\n",
      "(958, 2503) 3461\n",
      "(1367, 2951) 4318\n",
      "(253, 517) 770\n",
      "(1491, 3730) 5221\n",
      "(224, 1728) 1952\n",
      "(1174, 3319) 4493\n",
      "(1491, 3719) 5210\n",
      "(946, 2853) 3799\n",
      "(-19, 2383) 2402\n",
      "(813, 2001) 2814\n",
      "(813, 1895) 2708\n",
      "(-9, 2479) 2488\n",
      "(-41, 954) 995\n",
      "(412, 3547) 3959\n",
      "(29, 3108) 3137\n",
      "(819, 2836) 3655\n",
      "(650, 3657) 4307\n",
      "(1162, 2121) 3283\n",
      "(757, 2836) 3593\n",
      "(-123, 2207) 2330\n",
      "(616, 1783) 2399\n",
      "(296, 2444) 2740\n",
      "(-1261, 1328) 2589\n",
      "(1162, 2407) 3569\n",
      "(1116, 3319) 4435\n",
      "(1420, 3821) 5241\n",
      "(1491, 3334) 4825\n",
      "(903, 2744) 3647\n",
      "(946, 2717) 3663\n",
      "(1030, 3821) 4851\n",
      "(1101, 2654) 3755\n",
      "(931, 2853) 3784\n",
      "(776, 2937) 3713\n",
      "(-586, 1151) 1737\n",
      "(903, 2624) 3527\n",
      "(1636, 2801) 4437\n",
      "(-321, 2383) 2704\n",
      "(592, 1724) 2316\n",
      "(1257, 2155) 3412\n",
      "(844, 2001) 2845\n",
      "(389, 3125) 3514\n",
      "(137, 932) 1069\n",
      "(-334, 690) 1024\n",
      "(-37, 3525) 3562\n",
      "(111, 3108) 3219\n",
      "(1323, 2354) 3677\n",
      "(1636, 2465) 4101\n",
      "(-348, 971) 1319\n",
      "(97, 2207) 2304\n",
      "(1116, 3237) 4353\n",
      "(865, 2744) 3609\n",
      "(-560, 971) 1531\n",
      "(1104, 2704) 3808\n",
      "(650, 3469) 4119\n",
      "(-9, 2723) 2732\n",
      "(-379, 761) 1140\n",
      "(-1212, 1676) 2888\n",
      "(-2143, 1864) 4007\n",
      "(1257, 2354) 3611\n",
      "(-1212, 1730) 2942\n",
      "(1362, 2155) 3517\n",
      "(1715, 2155) 3870\n",
      "(1189, 2717) 3906\n",
      "(-385, 956) 1341\n",
      "(946, 2573) 3519\n",
      "(142, 2399) 2541\n",
      "(1189, 2853) 4042\n",
      "(946, 2937) 3883\n",
      "(29, 2836) 2865\n",
      "(685, 1679) 2364\n",
      "(412, 3657) 4069\n",
      "(-385, 847) 1232\n",
      "(1465, 3821) 5286\n",
      "(-41, 1679) 1720\n",
      "(97, 1916) 2013\n",
      "(-871, 847) 1718\n",
      "(29, 2830) 2859\n",
      "(-287, 2410) 2697\n",
      "(-348, 1592) 1940\n",
      "(-984, 2311) 3295\n",
      "(956, 2169) 3125\n",
      "(-73, 3108) 3181\n",
      "(1065, 3469) 4534\n",
      "(-1261, 1394) 2655\n",
      "(224, 1679) 1903\n",
      "(1195, 2686) 3881\n",
      "(1636, 2354) 3990\n",
      "(1189, 2993) 4182\n",
      "(-9, 2903) 2912\n",
      "(1174, 3237) 4411\n",
      "(668, 930) 1598\n",
      "(-321, 1901) 2222\n",
      "(-586, 1149) 1735\n",
      "(595, 1783) 2378\n",
      "(1189, 3319) 4508\n",
      "(757, 2503) 3260\n",
      "(-577, 1077) 1654\n",
      "(1296, 3821) 5117\n",
      "(-321, 2207) 2528\n",
      "(1189, 2686) 3875\n",
      "(531, 2399) 2930\n",
      "(154, 3125) 3279\n",
      "(906, 3821) 4727\n",
      "(-586, 1328) 1914\n",
      "(1189, 2937) 4126\n",
      "(-1654, 2101) 3755\n",
      "(1101, 2503) 3604\n",
      "(808, 4380) 5188\n",
      "(-348, 962) 1310\n",
      "(-19, 2036) 2055\n",
      "(1636, 2708) 4344\n",
      "(-871, 969) 1840\n",
      "(958, 2573) 3531\n",
      "(-560, 689) 1249\n",
      "(844, 2402) 3246\n",
      "(-9, 3108) 3117\n",
      "(-66, 954) 1020\n",
      "(-1212, 1500) 2712\n",
      "(229, 3525) 3754\n",
      "(-37, 2862) 2899\n",
      "(-560, 1151) 1711\n",
      "(1323, 2155) 3478\n",
      "(-586, 1592) 2178\n",
      "(844, 2503) 3347\n",
      "(1162, 2573) 3735\n",
      "(592, 1725) 2317\n",
      "(-73, 2903) 2976\n",
      "(757, 2717) 3474\n",
      "(1101, 2407) 3508\n",
      "(485, 3125) 3610\n",
      "(673, 4380) 5053\n",
      "(1466, 2122) 3588\n",
      "(1491, 3540) 5031\n",
      "(1116, 2937) 4053\n",
      "(412, 3539) 3951\n",
      "(1195, 2573) 3768\n",
      "(1077, 787) 1864\n",
      "(984, 1951) 2935\n",
      "(1466, 2171) 3637\n",
      "(1189, 3237) 4426\n",
      "(1162, 2503) 3665\n",
      "(1411, 3319) 4730\n",
      "(844, 2573) 3417\n",
      "(239, 3125) 3364\n",
      "(142, 2444) 2586\n",
      "(1065, 3237) 4302\n"
     ]
    }
   ],
   "source": [
    "instructions1 = instructions[0]\n",
    "instructions2 = instructions[1]\n",
    "\n",
    "origin = (0,0)\n",
    "wire1 = run_instructions(origin, instructions1)\n",
    "wire2 = run_instructions(origin, instructions2)\n",
    "\n",
    "crosses = set(wire1).intersection(set(wire2))\n",
    "\n",
    "distances = []\n",
    "for cross in crosses:\n",
    "    dist = compute_manhattan_distance(0,0,cross[0],cross[1])\n",
    "    print(cross, dist)\n",
    "    distances.append(dist)"
   ]
  },
  {
   "cell_type": "code",
   "execution_count": 63,
   "metadata": {},
   "outputs": [
    {
     "data": {
      "text/plain": [
       "316"
      ]
     },
     "execution_count": 63,
     "metadata": {},
     "output_type": "execute_result"
    }
   ],
   "source": [
    "min(distances)"
   ]
  },
  {
   "cell_type": "markdown",
   "metadata": {},
   "source": [
    "## Part 2"
   ]
  },
  {
   "cell_type": "code",
   "execution_count": 88,
   "metadata": {},
   "outputs": [],
   "source": [
    "import pandas as pd\n",
    "wire1_df = pd.DataFrame(wire1, columns=['x','y']).reset_index().drop_duplicates()\n",
    "wire2_df = pd.DataFrame(wire2, columns=['x','y']).reset_index().drop_duplicates()"
   ]
  },
  {
   "cell_type": "code",
   "execution_count": 92,
   "metadata": {},
   "outputs": [],
   "source": [
    "crosses_df = wire1_df.merge(wire2_df, how='inner', on=['x','y'])"
   ]
  },
  {
   "cell_type": "code",
   "execution_count": 94,
   "metadata": {},
   "outputs": [],
   "source": [
    "crosses_df['steps'] = crosses_df['index_x'] + crosses_df['index_y'] "
   ]
  },
  {
   "cell_type": "code",
   "execution_count": 104,
   "metadata": {},
   "outputs": [
    {
     "data": {
      "text/plain": [
       "16368"
      ]
     },
     "execution_count": 104,
     "metadata": {},
     "output_type": "execute_result"
    }
   ],
   "source": [
    "crosses_df.sort_values(by='steps').iloc[0]['steps'] + 2 # because of 0 indexing"
   ]
  },
  {
   "cell_type": "code",
   "execution_count": null,
   "metadata": {},
   "outputs": [],
   "source": []
  }
 ],
 "metadata": {
  "kernelspec": {
   "display_name": "Python 3",
   "language": "python",
   "name": "python3"
  },
  "language_info": {
   "codemirror_mode": {
    "name": "ipython",
    "version": 3
   },
   "file_extension": ".py",
   "mimetype": "text/x-python",
   "name": "python",
   "nbconvert_exporter": "python",
   "pygments_lexer": "ipython3",
   "version": "3.5.2"
  }
 },
 "nbformat": 4,
 "nbformat_minor": 2
}
